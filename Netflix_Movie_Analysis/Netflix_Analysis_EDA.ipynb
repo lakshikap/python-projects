{
 "cells": [
  {
   "cell_type": "markdown",
   "id": "15e48e4e-2f9d-4a06-afb3-74ece38c786b",
   "metadata": {},
   "source": [
    "# Netflix Movie Analysis #"
   ]
  },
  {
   "cell_type": "markdown",
   "id": "9cbea9dd-c6e1-47ea-a82c-c082503d7645",
   "metadata": {},
   "source": [
    "## 1. Data Exploration ##"
   ]
  },
  {
   "cell_type": "markdown",
   "id": "23c38346-132f-430d-b8fd-d01fc457af67",
   "metadata": {},
   "source": [
    "***Insights are written at the end of each section or at the bottom of each analysis.***"
   ]
  },
  {
   "cell_type": "code",
   "execution_count": 29,
   "id": "d1c6d802-9ab1-40d7-af19-1a64d7b07138",
   "metadata": {},
   "outputs": [],
   "source": [
    "# Import packages\n",
    "import pandas as pd\n",
    "\n",
    "# Ignore warnings in output\n",
    "import warnings\n",
    "warnings.filterwarnings('ignore')"
   ]
  },
  {
   "cell_type": "code",
   "execution_count": 30,
   "id": "e565c82b-1ca3-49a8-a5d5-b693bd2f2645",
   "metadata": {},
   "outputs": [
    {
     "data": {
      "text/html": [
       "<div>\n",
       "<style scoped>\n",
       "    .dataframe tbody tr th:only-of-type {\n",
       "        vertical-align: middle;\n",
       "    }\n",
       "\n",
       "    .dataframe tbody tr th {\n",
       "        vertical-align: top;\n",
       "    }\n",
       "\n",
       "    .dataframe thead th {\n",
       "        text-align: right;\n",
       "    }\n",
       "</style>\n",
       "<table border=\"1\" class=\"dataframe\">\n",
       "  <thead>\n",
       "    <tr style=\"text-align: right;\">\n",
       "      <th></th>\n",
       "      <th>show_id</th>\n",
       "      <th>title</th>\n",
       "      <th>director</th>\n",
       "      <th>cast</th>\n",
       "      <th>country</th>\n",
       "      <th>date_added</th>\n",
       "      <th>release_year</th>\n",
       "      <th>rating</th>\n",
       "      <th>duration</th>\n",
       "      <th>listed_in</th>\n",
       "      <th>description</th>\n",
       "      <th>type</th>\n",
       "    </tr>\n",
       "  </thead>\n",
       "  <tbody>\n",
       "    <tr>\n",
       "      <th>0</th>\n",
       "      <td>81193313</td>\n",
       "      <td>Chocolate</td>\n",
       "      <td>NaN</td>\n",
       "      <td>Ha Ji-won, Yoon Kye-sang, Jang Seung-jo, Kang ...</td>\n",
       "      <td>South Korea</td>\n",
       "      <td>30-Nov-19</td>\n",
       "      <td>2019</td>\n",
       "      <td>TV-14</td>\n",
       "      <td>1 Season</td>\n",
       "      <td>International TV Shows, Korean TV Shows, Roman...</td>\n",
       "      <td>Brought together by meaningful meals in the pa...</td>\n",
       "      <td>TV Show</td>\n",
       "    </tr>\n",
       "    <tr>\n",
       "      <th>1</th>\n",
       "      <td>81197050</td>\n",
       "      <td>Guatemala: Heart of the Mayan World</td>\n",
       "      <td>Luis Ara, Ignacio Jaunsolo</td>\n",
       "      <td>Christian Morales</td>\n",
       "      <td>NaN</td>\n",
       "      <td>30-Nov-19</td>\n",
       "      <td>2019</td>\n",
       "      <td>TV-G</td>\n",
       "      <td>67 min</td>\n",
       "      <td>Documentaries, International Movies</td>\n",
       "      <td>From Sierra de las Minas to Esquipulas, explor...</td>\n",
       "      <td>Movie</td>\n",
       "    </tr>\n",
       "    <tr>\n",
       "      <th>2</th>\n",
       "      <td>81213894</td>\n",
       "      <td>The Zoya Factor</td>\n",
       "      <td>Abhishek Sharma</td>\n",
       "      <td>Sonam Kapoor, Dulquer Salmaan, Sanjay Kapoor, ...</td>\n",
       "      <td>India</td>\n",
       "      <td>30-Nov-19</td>\n",
       "      <td>2019</td>\n",
       "      <td>TV-14</td>\n",
       "      <td>135 min</td>\n",
       "      <td>Comedies, Dramas, International Movies</td>\n",
       "      <td>A goofy copywriter unwittingly convinces the I...</td>\n",
       "      <td>Movie</td>\n",
       "    </tr>\n",
       "    <tr>\n",
       "      <th>3</th>\n",
       "      <td>81082007</td>\n",
       "      <td>Atlantics</td>\n",
       "      <td>Mati Diop</td>\n",
       "      <td>Mama Sane, Amadou Mbow, Ibrahima Traore, Nicol...</td>\n",
       "      <td>France, Senegal, Belgium</td>\n",
       "      <td>29-Nov-19</td>\n",
       "      <td>2019</td>\n",
       "      <td>TV-14</td>\n",
       "      <td>106 min</td>\n",
       "      <td>Dramas, Independent Movies, International Movies</td>\n",
       "      <td>Arranged to marry a rich man, young Ada is cru...</td>\n",
       "      <td>Movie</td>\n",
       "    </tr>\n",
       "    <tr>\n",
       "      <th>4</th>\n",
       "      <td>80213643</td>\n",
       "      <td>Chip and Potato</td>\n",
       "      <td>NaN</td>\n",
       "      <td>Abigail Oliver, Andrea Libman, Briana Buckmast...</td>\n",
       "      <td>Canada, United Kingdom</td>\n",
       "      <td>NaN</td>\n",
       "      <td>2019</td>\n",
       "      <td>TV-Y</td>\n",
       "      <td>2 Seasons</td>\n",
       "      <td>Kids' TV</td>\n",
       "      <td>Lovable pug Chip starts kindergarten, makes ne...</td>\n",
       "      <td>TV Show</td>\n",
       "    </tr>\n",
       "  </tbody>\n",
       "</table>\n",
       "</div>"
      ],
      "text/plain": [
       "    show_id                                title                    director  \\\n",
       "0  81193313                            Chocolate                         NaN   \n",
       "1  81197050  Guatemala: Heart of the Mayan World  Luis Ara, Ignacio Jaunsolo   \n",
       "2  81213894                      The Zoya Factor             Abhishek Sharma   \n",
       "3  81082007                            Atlantics                   Mati Diop   \n",
       "4  80213643                      Chip and Potato                         NaN   \n",
       "\n",
       "                                                cast  \\\n",
       "0  Ha Ji-won, Yoon Kye-sang, Jang Seung-jo, Kang ...   \n",
       "1                                  Christian Morales   \n",
       "2  Sonam Kapoor, Dulquer Salmaan, Sanjay Kapoor, ...   \n",
       "3  Mama Sane, Amadou Mbow, Ibrahima Traore, Nicol...   \n",
       "4  Abigail Oliver, Andrea Libman, Briana Buckmast...   \n",
       "\n",
       "                    country date_added  release_year rating   duration  \\\n",
       "0               South Korea  30-Nov-19          2019  TV-14   1 Season   \n",
       "1                       NaN  30-Nov-19          2019   TV-G     67 min   \n",
       "2                     India  30-Nov-19          2019  TV-14    135 min   \n",
       "3  France, Senegal, Belgium  29-Nov-19          2019  TV-14    106 min   \n",
       "4    Canada, United Kingdom        NaN          2019   TV-Y  2 Seasons   \n",
       "\n",
       "                                           listed_in  \\\n",
       "0  International TV Shows, Korean TV Shows, Roman...   \n",
       "1                Documentaries, International Movies   \n",
       "2             Comedies, Dramas, International Movies   \n",
       "3   Dramas, Independent Movies, International Movies   \n",
       "4                                           Kids' TV   \n",
       "\n",
       "                                         description     type  \n",
       "0  Brought together by meaningful meals in the pa...  TV Show  \n",
       "1  From Sierra de las Minas to Esquipulas, explor...    Movie  \n",
       "2  A goofy copywriter unwittingly convinces the I...    Movie  \n",
       "3  Arranged to marry a rich man, young Ada is cru...    Movie  \n",
       "4  Lovable pug Chip starts kindergarten, makes ne...  TV Show  "
      ]
     },
     "execution_count": 30,
     "metadata": {},
     "output_type": "execute_result"
    }
   ],
   "source": [
    "# Import the dataset of Netflix movies\n",
    "movies = pd.read_csv(\"netflix_titles_Nov2019.csv\")\n",
    "# Check the first 5 rows\n",
    "movies.head(5)"
   ]
  },
  {
   "cell_type": "code",
   "execution_count": 31,
   "id": "308f5f67-b4c2-4880-b0ff-6b6e5858c0cf",
   "metadata": {},
   "outputs": [
    {
     "data": {
      "text/html": [
       "<div>\n",
       "<style scoped>\n",
       "    .dataframe tbody tr th:only-of-type {\n",
       "        vertical-align: middle;\n",
       "    }\n",
       "\n",
       "    .dataframe tbody tr th {\n",
       "        vertical-align: top;\n",
       "    }\n",
       "\n",
       "    .dataframe thead th {\n",
       "        text-align: right;\n",
       "    }\n",
       "</style>\n",
       "<table border=\"1\" class=\"dataframe\">\n",
       "  <thead>\n",
       "    <tr style=\"text-align: right;\">\n",
       "      <th></th>\n",
       "      <th>show_id</th>\n",
       "      <th>title</th>\n",
       "      <th>director</th>\n",
       "      <th>cast</th>\n",
       "      <th>country</th>\n",
       "      <th>date_added</th>\n",
       "      <th>release_year</th>\n",
       "      <th>rating</th>\n",
       "      <th>duration</th>\n",
       "      <th>listed_in</th>\n",
       "      <th>description</th>\n",
       "      <th>type</th>\n",
       "    </tr>\n",
       "  </thead>\n",
       "  <tbody>\n",
       "    <tr>\n",
       "      <th>268</th>\n",
       "      <td>60033247</td>\n",
       "      <td>Superfly</td>\n",
       "      <td>Gordon Parks</td>\n",
       "      <td>Ron O'Neal, Carl Lee, Sheila Frazier, Julius H...</td>\n",
       "      <td>United States</td>\n",
       "      <td>01-Nov-19</td>\n",
       "      <td>1972</td>\n",
       "      <td>R</td>\n",
       "      <td>91 min</td>\n",
       "      <td>Action &amp; Adventure, Classic Movies, Dramas</td>\n",
       "      <td>To get away from the thug life, cocaine dealer...</td>\n",
       "      <td>Movie</td>\n",
       "    </tr>\n",
       "    <tr>\n",
       "      <th>1876</th>\n",
       "      <td>80241304</td>\n",
       "      <td>We the Animals</td>\n",
       "      <td>Jeremiah Zagar</td>\n",
       "      <td>Evan Rosado, Josiah Gabriel, Isaiah Kristian, ...</td>\n",
       "      <td>United States</td>\n",
       "      <td>11-Feb-19</td>\n",
       "      <td>2018</td>\n",
       "      <td>R</td>\n",
       "      <td>93 min</td>\n",
       "      <td>Dramas, Independent Movies</td>\n",
       "      <td>A trio of brothers cope with their parents' vo...</td>\n",
       "      <td>Movie</td>\n",
       "    </tr>\n",
       "    <tr>\n",
       "      <th>3427</th>\n",
       "      <td>80130625</td>\n",
       "      <td>6 Balloons</td>\n",
       "      <td>Marja Lewis Ryan</td>\n",
       "      <td>Abbi Jacobson, Dave Franco, Jane Kaczmarek, Ti...</td>\n",
       "      <td>United States</td>\n",
       "      <td>06-Apr-18</td>\n",
       "      <td>2018</td>\n",
       "      <td>TV-MA</td>\n",
       "      <td>75 min</td>\n",
       "      <td>Dramas, Independent Movies</td>\n",
       "      <td>A loyal sister struggles to stay afloat while ...</td>\n",
       "      <td>Movie</td>\n",
       "    </tr>\n",
       "    <tr>\n",
       "      <th>2380</th>\n",
       "      <td>81004099</td>\n",
       "      <td>Nothing to Hide</td>\n",
       "      <td>Fred Cavayé</td>\n",
       "      <td>Bérénice Bejo, Suzanne Clément, Stéphane De Gr...</td>\n",
       "      <td>France, Belgium</td>\n",
       "      <td>16-Nov-18</td>\n",
       "      <td>2018</td>\n",
       "      <td>TV-MA</td>\n",
       "      <td>94 min</td>\n",
       "      <td>Comedies, Dramas, International Movies</td>\n",
       "      <td>To spice up a dinner party, old friends agree ...</td>\n",
       "      <td>Movie</td>\n",
       "    </tr>\n",
       "    <tr>\n",
       "      <th>5779</th>\n",
       "      <td>80020772</td>\n",
       "      <td>Get Santa</td>\n",
       "      <td>Christopher Smith</td>\n",
       "      <td>Jodie Whittaker, Warwick Davis, Jim Broadbent,...</td>\n",
       "      <td>United Kingdom, United States</td>\n",
       "      <td>12-Dec-14</td>\n",
       "      <td>2014</td>\n",
       "      <td>PG</td>\n",
       "      <td>103 min</td>\n",
       "      <td>Children &amp; Family Movies, Comedies</td>\n",
       "      <td>When Santa gets arrested for trespassing after...</td>\n",
       "      <td>Movie</td>\n",
       "    </tr>\n",
       "  </tbody>\n",
       "</table>\n",
       "</div>"
      ],
      "text/plain": [
       "       show_id            title           director  \\\n",
       "268   60033247         Superfly       Gordon Parks   \n",
       "1876  80241304   We the Animals     Jeremiah Zagar   \n",
       "3427  80130625       6 Balloons   Marja Lewis Ryan   \n",
       "2380  81004099  Nothing to Hide        Fred Cavayé   \n",
       "5779  80020772        Get Santa  Christopher Smith   \n",
       "\n",
       "                                                   cast  \\\n",
       "268   Ron O'Neal, Carl Lee, Sheila Frazier, Julius H...   \n",
       "1876  Evan Rosado, Josiah Gabriel, Isaiah Kristian, ...   \n",
       "3427  Abbi Jacobson, Dave Franco, Jane Kaczmarek, Ti...   \n",
       "2380  Bérénice Bejo, Suzanne Clément, Stéphane De Gr...   \n",
       "5779  Jodie Whittaker, Warwick Davis, Jim Broadbent,...   \n",
       "\n",
       "                            country date_added  release_year rating duration  \\\n",
       "268                   United States  01-Nov-19          1972      R   91 min   \n",
       "1876                  United States  11-Feb-19          2018      R   93 min   \n",
       "3427                  United States  06-Apr-18          2018  TV-MA   75 min   \n",
       "2380                France, Belgium  16-Nov-18          2018  TV-MA   94 min   \n",
       "5779  United Kingdom, United States  12-Dec-14          2014     PG  103 min   \n",
       "\n",
       "                                       listed_in  \\\n",
       "268   Action & Adventure, Classic Movies, Dramas   \n",
       "1876                  Dramas, Independent Movies   \n",
       "3427                  Dramas, Independent Movies   \n",
       "2380      Comedies, Dramas, International Movies   \n",
       "5779          Children & Family Movies, Comedies   \n",
       "\n",
       "                                            description   type  \n",
       "268   To get away from the thug life, cocaine dealer...  Movie  \n",
       "1876  A trio of brothers cope with their parents' vo...  Movie  \n",
       "3427  A loyal sister struggles to stay afloat while ...  Movie  \n",
       "2380  To spice up a dinner party, old friends agree ...  Movie  \n",
       "5779  When Santa gets arrested for trespassing after...  Movie  "
      ]
     },
     "execution_count": 31,
     "metadata": {},
     "output_type": "execute_result"
    }
   ],
   "source": [
    "# Check a random sample\n",
    "movies.sample(5)"
   ]
  },
  {
   "cell_type": "code",
   "execution_count": 32,
   "id": "372f53a8-e89b-43bd-930c-da3b2787cae0",
   "metadata": {},
   "outputs": [
    {
     "data": {
      "text/plain": [
       "(5837, 12)"
      ]
     },
     "execution_count": 32,
     "metadata": {},
     "output_type": "execute_result"
    }
   ],
   "source": [
    "movies.shape"
   ]
  },
  {
   "cell_type": "code",
   "execution_count": 33,
   "id": "9e11868b-dafc-4c27-83d4-46ad0bd8da9f",
   "metadata": {},
   "outputs": [
    {
     "data": {
      "text/html": [
       "<div>\n",
       "<style scoped>\n",
       "    .dataframe tbody tr th:only-of-type {\n",
       "        vertical-align: middle;\n",
       "    }\n",
       "\n",
       "    .dataframe tbody tr th {\n",
       "        vertical-align: top;\n",
       "    }\n",
       "\n",
       "    .dataframe thead th {\n",
       "        text-align: right;\n",
       "    }\n",
       "</style>\n",
       "<table border=\"1\" class=\"dataframe\">\n",
       "  <thead>\n",
       "    <tr style=\"text-align: right;\">\n",
       "      <th></th>\n",
       "      <th>show_id</th>\n",
       "      <th>title</th>\n",
       "      <th>director</th>\n",
       "      <th>cast</th>\n",
       "      <th>country</th>\n",
       "      <th>date_added</th>\n",
       "      <th>release_year</th>\n",
       "      <th>rating</th>\n",
       "      <th>duration</th>\n",
       "      <th>listed_in</th>\n",
       "      <th>description</th>\n",
       "      <th>type</th>\n",
       "    </tr>\n",
       "  </thead>\n",
       "  <tbody>\n",
       "    <tr>\n",
       "      <th>count</th>\n",
       "      <td>5.837000e+03</td>\n",
       "      <td>5837</td>\n",
       "      <td>3936</td>\n",
       "      <td>5281</td>\n",
       "      <td>5410</td>\n",
       "      <td>5195</td>\n",
       "      <td>5837.000000</td>\n",
       "      <td>5827</td>\n",
       "      <td>5837</td>\n",
       "      <td>5837</td>\n",
       "      <td>5837</td>\n",
       "      <td>5837</td>\n",
       "    </tr>\n",
       "    <tr>\n",
       "      <th>unique</th>\n",
       "      <td>NaN</td>\n",
       "      <td>5780</td>\n",
       "      <td>3108</td>\n",
       "      <td>5087</td>\n",
       "      <td>527</td>\n",
       "      <td>1092</td>\n",
       "      <td>NaN</td>\n",
       "      <td>14</td>\n",
       "      <td>194</td>\n",
       "      <td>449</td>\n",
       "      <td>5829</td>\n",
       "      <td>2</td>\n",
       "    </tr>\n",
       "    <tr>\n",
       "      <th>top</th>\n",
       "      <td>NaN</td>\n",
       "      <td>Tunnel</td>\n",
       "      <td>Raúl Campos, Jan Suter</td>\n",
       "      <td>David Attenborough</td>\n",
       "      <td>United States</td>\n",
       "      <td>01-Nov-19</td>\n",
       "      <td>NaN</td>\n",
       "      <td>TV-MA</td>\n",
       "      <td>1 Season</td>\n",
       "      <td>Documentaries</td>\n",
       "      <td>A surly septuagenarian gets another chance at ...</td>\n",
       "      <td>Movie</td>\n",
       "    </tr>\n",
       "    <tr>\n",
       "      <th>freq</th>\n",
       "      <td>NaN</td>\n",
       "      <td>3</td>\n",
       "      <td>18</td>\n",
       "      <td>18</td>\n",
       "      <td>1907</td>\n",
       "      <td>94</td>\n",
       "      <td>NaN</td>\n",
       "      <td>1937</td>\n",
       "      <td>1259</td>\n",
       "      <td>297</td>\n",
       "      <td>3</td>\n",
       "      <td>3939</td>\n",
       "    </tr>\n",
       "    <tr>\n",
       "      <th>mean</th>\n",
       "      <td>7.730079e+07</td>\n",
       "      <td>NaN</td>\n",
       "      <td>NaN</td>\n",
       "      <td>NaN</td>\n",
       "      <td>NaN</td>\n",
       "      <td>NaN</td>\n",
       "      <td>2013.688539</td>\n",
       "      <td>NaN</td>\n",
       "      <td>NaN</td>\n",
       "      <td>NaN</td>\n",
       "      <td>NaN</td>\n",
       "      <td>NaN</td>\n",
       "    </tr>\n",
       "    <tr>\n",
       "      <th>std</th>\n",
       "      <td>9.479777e+06</td>\n",
       "      <td>NaN</td>\n",
       "      <td>NaN</td>\n",
       "      <td>NaN</td>\n",
       "      <td>NaN</td>\n",
       "      <td>NaN</td>\n",
       "      <td>8.419088</td>\n",
       "      <td>NaN</td>\n",
       "      <td>NaN</td>\n",
       "      <td>NaN</td>\n",
       "      <td>NaN</td>\n",
       "      <td>NaN</td>\n",
       "    </tr>\n",
       "    <tr>\n",
       "      <th>min</th>\n",
       "      <td>2.698800e+05</td>\n",
       "      <td>NaN</td>\n",
       "      <td>NaN</td>\n",
       "      <td>NaN</td>\n",
       "      <td>NaN</td>\n",
       "      <td>NaN</td>\n",
       "      <td>1925.000000</td>\n",
       "      <td>NaN</td>\n",
       "      <td>NaN</td>\n",
       "      <td>NaN</td>\n",
       "      <td>NaN</td>\n",
       "      <td>NaN</td>\n",
       "    </tr>\n",
       "    <tr>\n",
       "      <th>25%</th>\n",
       "      <td>8.004520e+07</td>\n",
       "      <td>NaN</td>\n",
       "      <td>NaN</td>\n",
       "      <td>NaN</td>\n",
       "      <td>NaN</td>\n",
       "      <td>NaN</td>\n",
       "      <td>2013.000000</td>\n",
       "      <td>NaN</td>\n",
       "      <td>NaN</td>\n",
       "      <td>NaN</td>\n",
       "      <td>NaN</td>\n",
       "      <td>NaN</td>\n",
       "    </tr>\n",
       "    <tr>\n",
       "      <th>50%</th>\n",
       "      <td>8.016353e+07</td>\n",
       "      <td>NaN</td>\n",
       "      <td>NaN</td>\n",
       "      <td>NaN</td>\n",
       "      <td>NaN</td>\n",
       "      <td>NaN</td>\n",
       "      <td>2016.000000</td>\n",
       "      <td>NaN</td>\n",
       "      <td>NaN</td>\n",
       "      <td>NaN</td>\n",
       "      <td>NaN</td>\n",
       "      <td>NaN</td>\n",
       "    </tr>\n",
       "    <tr>\n",
       "      <th>75%</th>\n",
       "      <td>8.024188e+07</td>\n",
       "      <td>NaN</td>\n",
       "      <td>NaN</td>\n",
       "      <td>NaN</td>\n",
       "      <td>NaN</td>\n",
       "      <td>NaN</td>\n",
       "      <td>2018.000000</td>\n",
       "      <td>NaN</td>\n",
       "      <td>NaN</td>\n",
       "      <td>NaN</td>\n",
       "      <td>NaN</td>\n",
       "      <td>NaN</td>\n",
       "    </tr>\n",
       "    <tr>\n",
       "      <th>max</th>\n",
       "      <td>8.122720e+07</td>\n",
       "      <td>NaN</td>\n",
       "      <td>NaN</td>\n",
       "      <td>NaN</td>\n",
       "      <td>NaN</td>\n",
       "      <td>NaN</td>\n",
       "      <td>2020.000000</td>\n",
       "      <td>NaN</td>\n",
       "      <td>NaN</td>\n",
       "      <td>NaN</td>\n",
       "      <td>NaN</td>\n",
       "      <td>NaN</td>\n",
       "    </tr>\n",
       "  </tbody>\n",
       "</table>\n",
       "</div>"
      ],
      "text/plain": [
       "             show_id   title                director                cast  \\\n",
       "count   5.837000e+03    5837                    3936                5281   \n",
       "unique           NaN    5780                    3108                5087   \n",
       "top              NaN  Tunnel  Raúl Campos, Jan Suter  David Attenborough   \n",
       "freq             NaN       3                      18                  18   \n",
       "mean    7.730079e+07     NaN                     NaN                 NaN   \n",
       "std     9.479777e+06     NaN                     NaN                 NaN   \n",
       "min     2.698800e+05     NaN                     NaN                 NaN   \n",
       "25%     8.004520e+07     NaN                     NaN                 NaN   \n",
       "50%     8.016353e+07     NaN                     NaN                 NaN   \n",
       "75%     8.024188e+07     NaN                     NaN                 NaN   \n",
       "max     8.122720e+07     NaN                     NaN                 NaN   \n",
       "\n",
       "              country date_added  release_year rating  duration  \\\n",
       "count            5410       5195   5837.000000   5827      5837   \n",
       "unique            527       1092           NaN     14       194   \n",
       "top     United States  01-Nov-19           NaN  TV-MA  1 Season   \n",
       "freq             1907         94           NaN   1937      1259   \n",
       "mean              NaN        NaN   2013.688539    NaN       NaN   \n",
       "std               NaN        NaN      8.419088    NaN       NaN   \n",
       "min               NaN        NaN   1925.000000    NaN       NaN   \n",
       "25%               NaN        NaN   2013.000000    NaN       NaN   \n",
       "50%               NaN        NaN   2016.000000    NaN       NaN   \n",
       "75%               NaN        NaN   2018.000000    NaN       NaN   \n",
       "max               NaN        NaN   2020.000000    NaN       NaN   \n",
       "\n",
       "            listed_in                                        description  \\\n",
       "count            5837                                               5837   \n",
       "unique            449                                               5829   \n",
       "top     Documentaries  A surly septuagenarian gets another chance at ...   \n",
       "freq              297                                                  3   \n",
       "mean              NaN                                                NaN   \n",
       "std               NaN                                                NaN   \n",
       "min               NaN                                                NaN   \n",
       "25%               NaN                                                NaN   \n",
       "50%               NaN                                                NaN   \n",
       "75%               NaN                                                NaN   \n",
       "max               NaN                                                NaN   \n",
       "\n",
       "         type  \n",
       "count    5837  \n",
       "unique      2  \n",
       "top     Movie  \n",
       "freq     3939  \n",
       "mean      NaN  \n",
       "std       NaN  \n",
       "min       NaN  \n",
       "25%       NaN  \n",
       "50%       NaN  \n",
       "75%       NaN  \n",
       "max       NaN  "
      ]
     },
     "execution_count": 33,
     "metadata": {},
     "output_type": "execute_result"
    }
   ],
   "source": [
    "movies.describe(include='all')"
   ]
  },
  {
   "cell_type": "code",
   "execution_count": 34,
   "id": "6f69c254-303c-4ade-bcbe-cdcb0f708e4c",
   "metadata": {},
   "outputs": [
    {
     "data": {
      "text/html": [
       "<div>\n",
       "<style scoped>\n",
       "    .dataframe tbody tr th:only-of-type {\n",
       "        vertical-align: middle;\n",
       "    }\n",
       "\n",
       "    .dataframe tbody tr th {\n",
       "        vertical-align: top;\n",
       "    }\n",
       "\n",
       "    .dataframe thead th {\n",
       "        text-align: right;\n",
       "    }\n",
       "</style>\n",
       "<table border=\"1\" class=\"dataframe\">\n",
       "  <thead>\n",
       "    <tr style=\"text-align: right;\">\n",
       "      <th></th>\n",
       "      <th>show_id</th>\n",
       "      <th>title</th>\n",
       "      <th>director</th>\n",
       "      <th>cast</th>\n",
       "      <th>country</th>\n",
       "      <th>date_added</th>\n",
       "      <th>release_year</th>\n",
       "      <th>rating</th>\n",
       "      <th>duration</th>\n",
       "      <th>listed_in</th>\n",
       "      <th>description</th>\n",
       "      <th>type</th>\n",
       "    </tr>\n",
       "  </thead>\n",
       "  <tbody>\n",
       "    <tr>\n",
       "      <th>0</th>\n",
       "      <td>False</td>\n",
       "      <td>False</td>\n",
       "      <td>True</td>\n",
       "      <td>False</td>\n",
       "      <td>False</td>\n",
       "      <td>False</td>\n",
       "      <td>False</td>\n",
       "      <td>False</td>\n",
       "      <td>False</td>\n",
       "      <td>False</td>\n",
       "      <td>False</td>\n",
       "      <td>False</td>\n",
       "    </tr>\n",
       "    <tr>\n",
       "      <th>1</th>\n",
       "      <td>False</td>\n",
       "      <td>False</td>\n",
       "      <td>False</td>\n",
       "      <td>False</td>\n",
       "      <td>True</td>\n",
       "      <td>False</td>\n",
       "      <td>False</td>\n",
       "      <td>False</td>\n",
       "      <td>False</td>\n",
       "      <td>False</td>\n",
       "      <td>False</td>\n",
       "      <td>False</td>\n",
       "    </tr>\n",
       "    <tr>\n",
       "      <th>2</th>\n",
       "      <td>False</td>\n",
       "      <td>False</td>\n",
       "      <td>False</td>\n",
       "      <td>False</td>\n",
       "      <td>False</td>\n",
       "      <td>False</td>\n",
       "      <td>False</td>\n",
       "      <td>False</td>\n",
       "      <td>False</td>\n",
       "      <td>False</td>\n",
       "      <td>False</td>\n",
       "      <td>False</td>\n",
       "    </tr>\n",
       "    <tr>\n",
       "      <th>3</th>\n",
       "      <td>False</td>\n",
       "      <td>False</td>\n",
       "      <td>False</td>\n",
       "      <td>False</td>\n",
       "      <td>False</td>\n",
       "      <td>False</td>\n",
       "      <td>False</td>\n",
       "      <td>False</td>\n",
       "      <td>False</td>\n",
       "      <td>False</td>\n",
       "      <td>False</td>\n",
       "      <td>False</td>\n",
       "    </tr>\n",
       "    <tr>\n",
       "      <th>4</th>\n",
       "      <td>False</td>\n",
       "      <td>False</td>\n",
       "      <td>True</td>\n",
       "      <td>False</td>\n",
       "      <td>False</td>\n",
       "      <td>True</td>\n",
       "      <td>False</td>\n",
       "      <td>False</td>\n",
       "      <td>False</td>\n",
       "      <td>False</td>\n",
       "      <td>False</td>\n",
       "      <td>False</td>\n",
       "    </tr>\n",
       "    <tr>\n",
       "      <th>...</th>\n",
       "      <td>...</td>\n",
       "      <td>...</td>\n",
       "      <td>...</td>\n",
       "      <td>...</td>\n",
       "      <td>...</td>\n",
       "      <td>...</td>\n",
       "      <td>...</td>\n",
       "      <td>...</td>\n",
       "      <td>...</td>\n",
       "      <td>...</td>\n",
       "      <td>...</td>\n",
       "      <td>...</td>\n",
       "    </tr>\n",
       "    <tr>\n",
       "      <th>5832</th>\n",
       "      <td>False</td>\n",
       "      <td>False</td>\n",
       "      <td>False</td>\n",
       "      <td>False</td>\n",
       "      <td>False</td>\n",
       "      <td>False</td>\n",
       "      <td>False</td>\n",
       "      <td>False</td>\n",
       "      <td>False</td>\n",
       "      <td>False</td>\n",
       "      <td>False</td>\n",
       "      <td>False</td>\n",
       "    </tr>\n",
       "    <tr>\n",
       "      <th>5833</th>\n",
       "      <td>False</td>\n",
       "      <td>False</td>\n",
       "      <td>False</td>\n",
       "      <td>False</td>\n",
       "      <td>False</td>\n",
       "      <td>False</td>\n",
       "      <td>False</td>\n",
       "      <td>False</td>\n",
       "      <td>False</td>\n",
       "      <td>False</td>\n",
       "      <td>False</td>\n",
       "      <td>False</td>\n",
       "    </tr>\n",
       "    <tr>\n",
       "      <th>5834</th>\n",
       "      <td>False</td>\n",
       "      <td>False</td>\n",
       "      <td>False</td>\n",
       "      <td>False</td>\n",
       "      <td>False</td>\n",
       "      <td>False</td>\n",
       "      <td>False</td>\n",
       "      <td>False</td>\n",
       "      <td>False</td>\n",
       "      <td>False</td>\n",
       "      <td>False</td>\n",
       "      <td>False</td>\n",
       "    </tr>\n",
       "    <tr>\n",
       "      <th>5835</th>\n",
       "      <td>False</td>\n",
       "      <td>False</td>\n",
       "      <td>True</td>\n",
       "      <td>True</td>\n",
       "      <td>False</td>\n",
       "      <td>False</td>\n",
       "      <td>False</td>\n",
       "      <td>False</td>\n",
       "      <td>False</td>\n",
       "      <td>False</td>\n",
       "      <td>False</td>\n",
       "      <td>False</td>\n",
       "    </tr>\n",
       "    <tr>\n",
       "      <th>5836</th>\n",
       "      <td>False</td>\n",
       "      <td>False</td>\n",
       "      <td>False</td>\n",
       "      <td>False</td>\n",
       "      <td>False</td>\n",
       "      <td>False</td>\n",
       "      <td>False</td>\n",
       "      <td>False</td>\n",
       "      <td>False</td>\n",
       "      <td>False</td>\n",
       "      <td>False</td>\n",
       "      <td>False</td>\n",
       "    </tr>\n",
       "  </tbody>\n",
       "</table>\n",
       "<p>5837 rows × 12 columns</p>\n",
       "</div>"
      ],
      "text/plain": [
       "      show_id  title  director   cast  country  date_added  release_year  \\\n",
       "0       False  False      True  False    False       False         False   \n",
       "1       False  False     False  False     True       False         False   \n",
       "2       False  False     False  False    False       False         False   \n",
       "3       False  False     False  False    False       False         False   \n",
       "4       False  False      True  False    False        True         False   \n",
       "...       ...    ...       ...    ...      ...         ...           ...   \n",
       "5832    False  False     False  False    False       False         False   \n",
       "5833    False  False     False  False    False       False         False   \n",
       "5834    False  False     False  False    False       False         False   \n",
       "5835    False  False      True   True    False       False         False   \n",
       "5836    False  False     False  False    False       False         False   \n",
       "\n",
       "      rating  duration  listed_in  description   type  \n",
       "0      False     False      False        False  False  \n",
       "1      False     False      False        False  False  \n",
       "2      False     False      False        False  False  \n",
       "3      False     False      False        False  False  \n",
       "4      False     False      False        False  False  \n",
       "...      ...       ...        ...          ...    ...  \n",
       "5832   False     False      False        False  False  \n",
       "5833   False     False      False        False  False  \n",
       "5834   False     False      False        False  False  \n",
       "5835   False     False      False        False  False  \n",
       "5836   False     False      False        False  False  \n",
       "\n",
       "[5837 rows x 12 columns]"
      ]
     },
     "execution_count": 34,
     "metadata": {},
     "output_type": "execute_result"
    }
   ],
   "source": [
    "# Check missing values\n",
    "movies.isnull()"
   ]
  },
  {
   "cell_type": "code",
   "execution_count": 35,
   "id": "fcf7289f-09ff-4064-a39a-a93896797dad",
   "metadata": {},
   "outputs": [
    {
     "name": "stdout",
     "output_type": "stream",
     "text": [
      "<class 'pandas.core.frame.DataFrame'>\n",
      "RangeIndex: 5837 entries, 0 to 5836\n",
      "Data columns (total 12 columns):\n",
      " #   Column        Non-Null Count  Dtype \n",
      "---  ------        --------------  ----- \n",
      " 0   show_id       5837 non-null   int64 \n",
      " 1   title         5837 non-null   object\n",
      " 2   director      3936 non-null   object\n",
      " 3   cast          5281 non-null   object\n",
      " 4   country       5410 non-null   object\n",
      " 5   date_added    5195 non-null   object\n",
      " 6   release_year  5837 non-null   int64 \n",
      " 7   rating        5827 non-null   object\n",
      " 8   duration      5837 non-null   object\n",
      " 9   listed_in     5837 non-null   object\n",
      " 10  description   5837 non-null   object\n",
      " 11  type          5837 non-null   object\n",
      "dtypes: int64(2), object(10)\n",
      "memory usage: 547.3+ KB\n"
     ]
    }
   ],
   "source": [
    "# Check all data\n",
    "movies.info() "
   ]
  },
  {
   "cell_type": "code",
   "execution_count": 36,
   "id": "1da0c35f-5507-4775-87de-40b3c1453aa1",
   "metadata": {},
   "outputs": [
    {
     "data": {
      "text/plain": [
       "show_id            0\n",
       "title              0\n",
       "director        1901\n",
       "cast             556\n",
       "country          427\n",
       "date_added       642\n",
       "release_year       0\n",
       "rating            10\n",
       "duration           0\n",
       "listed_in          0\n",
       "description        0\n",
       "type               0\n",
       "dtype: int64"
      ]
     },
     "execution_count": 36,
     "metadata": {},
     "output_type": "execute_result"
    }
   ],
   "source": [
    "# Check total number of null values in columns\n",
    "movies.isnull().sum()"
   ]
  },
  {
   "cell_type": "code",
   "execution_count": 37,
   "id": "eec3bcaa-466d-4a72-a540-1f66059432d1",
   "metadata": {},
   "outputs": [
    {
     "data": {
      "text/plain": [
       "0"
      ]
     },
     "execution_count": 37,
     "metadata": {},
     "output_type": "execute_result"
    }
   ],
   "source": [
    "# check duplicates in rows\n",
    "movies.duplicated().sum()"
   ]
  },
  {
   "cell_type": "code",
   "execution_count": 38,
   "id": "99a72a4d-5d14-4165-9297-360d1d1ec05c",
   "metadata": {},
   "outputs": [
    {
     "data": {
      "text/plain": [
       "country\n",
       "United States                                           1907\n",
       "India                                                    697\n",
       "United Kingdom                                           336\n",
       "Japan                                                    168\n",
       "Canada                                                   139\n",
       "                                                        ... \n",
       "Norway, Denmark, Netherlands, Sweden                       1\n",
       "Ireland, United Kingdom, Greece, France, Netherlands       1\n",
       "Israel, Germany                                            1\n",
       "Canada, Germany, France, United States                     1\n",
       "Spain, Mexico, France                                      1\n",
       "Name: count, Length: 527, dtype: int64"
      ]
     },
     "execution_count": 38,
     "metadata": {},
     "output_type": "execute_result"
    }
   ],
   "source": [
    "# Check unique values in country categorical column\n",
    "movies['country'].value_counts()"
   ]
  },
  {
   "cell_type": "code",
   "execution_count": 39,
   "id": "e37f5d70-6fd1-4167-8f04-58a4d55c041a",
   "metadata": {},
   "outputs": [
    {
     "data": {
      "text/plain": [
       "listed_in\n",
       "Documentaries                                           297\n",
       "Stand-Up Comedy                                         265\n",
       "Dramas, International Movies                            238\n",
       "Dramas, Independent Movies, International Movies        170\n",
       "Comedies, Dramas, International Movies                  157\n",
       "                                                       ... \n",
       "Action & Adventure, Children & Family Movies, Dramas      1\n",
       "TV Comedies, TV Sci-Fi & Fantasy, Teen TV Shows           1\n",
       "Crime TV Shows, TV Action & Adventure, TV Comedies        1\n",
       "Kids' TV, TV Action & Adventure, TV Dramas                1\n",
       "Children & Family Movies, Classic Movies, Comedies        1\n",
       "Name: count, Length: 449, dtype: int64"
      ]
     },
     "execution_count": 39,
     "metadata": {},
     "output_type": "execute_result"
    }
   ],
   "source": [
    "# Check unique values in listed_in (genre) categorical column\n",
    "movies['listed_in'].value_counts()"
   ]
  },
  {
   "cell_type": "code",
   "execution_count": 40,
   "id": "3252af06-0eae-4eb7-a672-18fd89f4243e",
   "metadata": {},
   "outputs": [
    {
     "data": {
      "text/plain": [
       "type\n",
       "Movie      3939\n",
       "TV Show    1898\n",
       "Name: count, dtype: int64"
      ]
     },
     "execution_count": 40,
     "metadata": {},
     "output_type": "execute_result"
    }
   ],
   "source": [
    "# Check unique values in type categorical column\n",
    "movies['type'].value_counts()"
   ]
  },
  {
   "cell_type": "code",
   "execution_count": 41,
   "id": "4b441bad-9485-4e49-8f3d-6795f3a68e26",
   "metadata": {},
   "outputs": [
    {
     "data": {
      "text/plain": [
       "rating\n",
       "TV-MA       1937\n",
       "TV-14       1593\n",
       "TV-PG        678\n",
       "R            439\n",
       "PG-13        227\n",
       "NR           218\n",
       "PG           160\n",
       "TV-Y7        156\n",
       "TV-G         147\n",
       "TV-Y         139\n",
       "TV-Y7-FV      92\n",
       "G             32\n",
       "UR             7\n",
       "NC-17          2\n",
       "Name: count, dtype: int64"
      ]
     },
     "execution_count": 41,
     "metadata": {},
     "output_type": "execute_result"
    }
   ],
   "source": [
    "# Check unique values in rating categorical column\n",
    "movies['rating'].value_counts()"
   ]
  },
  {
   "cell_type": "code",
   "execution_count": 42,
   "id": "c543b39a-f8ad-46cd-bfe0-667ae67411fd",
   "metadata": {},
   "outputs": [
    {
     "data": {
      "text/plain": [
       "release_year\n",
       "2018    1040\n",
       "2017     928\n",
       "2016     818\n",
       "2019     762\n",
       "2015     502\n",
       "        ... \n",
       "1955       1\n",
       "1956       1\n",
       "1947       1\n",
       "2020       1\n",
       "1954       1\n",
       "Name: count, Length: 71, dtype: int64"
      ]
     },
     "execution_count": 42,
     "metadata": {},
     "output_type": "execute_result"
    }
   ],
   "source": [
    "# Check unique values in release_year\n",
    "movies['release_year'].value_counts()"
   ]
  },
  {
   "cell_type": "code",
   "execution_count": 43,
   "id": "5dd72f71-b590-49ca-83a3-c9067a3b3e9e",
   "metadata": {},
   "outputs": [
    {
     "data": {
      "text/plain": [
       "0"
      ]
     },
     "execution_count": 43,
     "metadata": {},
     "output_type": "execute_result"
    }
   ],
   "source": [
    "# check duplicates in rows\n",
    "movies.duplicated('show_id').sum()"
   ]
  },
  {
   "cell_type": "code",
   "execution_count": 44,
   "id": "a5525cb4-8b75-4643-8908-d08822d813b9",
   "metadata": {},
   "outputs": [
    {
     "data": {
      "text/plain": [
       "duration\n",
       "1 Season     1259\n",
       "2 Seasons     298\n",
       "3 Seasons     157\n",
       "90 min        105\n",
       "91 min        101\n",
       "             ... \n",
       "3 min           1\n",
       "190 min         1\n",
       "182 min         1\n",
       "214 min         1\n",
       "43 min          1\n",
       "Name: count, Length: 194, dtype: int64"
      ]
     },
     "execution_count": 44,
     "metadata": {},
     "output_type": "execute_result"
    }
   ],
   "source": [
    "# Check unique values in duration\n",
    "movies['duration'].value_counts()"
   ]
  },
  {
   "cell_type": "markdown",
   "id": "8c8729e1-db53-447e-9901-6fc2efb0fe30",
   "metadata": {},
   "source": [
    "***Expectation: The goal of this task was to understand the Netflix movies dataset and set expectations for the analysis, to identify if and what needs to be cleaned, how to clean the dataset, if it needs normalization, understand the data types and if they need conversion, identify outliers etc.***"
   ]
  },
  {
   "cell_type": "markdown",
   "id": "d71a994c-cd0b-41b3-8091-a7c0b8995010",
   "metadata": {},
   "source": [
    "***Insights: The data has null values in several columns, including director, cast, country, date_added and rating. The data type of date_added column is in string. Several columns like cast, country and listed_in (genre) has multiple comma separated values in a cell.***"
   ]
  },
  {
   "cell_type": "markdown",
   "id": "f816fcdc-af19-445a-b4e7-8dbfc466c182",
   "metadata": {},
   "source": [
    "## 2. Data Cleaning ##"
   ]
  },
  {
   "cell_type": "markdown",
   "id": "53549af8-f8e3-4ec8-9ef7-41dc1656d455",
   "metadata": {},
   "source": [
    "***In this section, we clean the data based on the insights identified in the previous data exploration step. We replace null values for director, cast, country columns. Then we remove 10 rows of null values in the rating as it has no or little impact on the dataset. We convert the data type of date_added to date-time format.***"
   ]
  },
  {
   "cell_type": "code",
   "execution_count": 45,
   "id": "a79244a4-74ed-4ed3-aa34-0ae3a3c2ce93",
   "metadata": {},
   "outputs": [
    {
     "data": {
      "text/plain": [
       "show_id            0\n",
       "title              0\n",
       "director        1901\n",
       "cast             556\n",
       "country          427\n",
       "date_added       642\n",
       "release_year       0\n",
       "rating            10\n",
       "duration           0\n",
       "listed_in          0\n",
       "description        0\n",
       "type               0\n",
       "dtype: int64"
      ]
     },
     "execution_count": 45,
     "metadata": {},
     "output_type": "execute_result"
    }
   ],
   "source": [
    "# Check total number of null values in columns\n",
    "movies.isnull().sum()"
   ]
  },
  {
   "cell_type": "code",
   "execution_count": 46,
   "id": "3a07c40b-c069-4d7a-8d37-dbb0a46aa390",
   "metadata": {},
   "outputs": [],
   "source": [
    "# Fill the null values for Director with 'Unknown'\n",
    "movies['director'] = movies['director'].fillna('Unknown')"
   ]
  },
  {
   "cell_type": "markdown",
   "id": "afc4e433-1bac-47ae-abae-08acac40146d",
   "metadata": {},
   "source": [
    "***We replace the 'director' null values with \"Unknown\" to preserve all rows (as best for analysis). It does not impact the analysis as it is not essential.***"
   ]
  },
  {
   "cell_type": "code",
   "execution_count": 47,
   "id": "e9237643-6ff1-4590-a92a-d7fde9a98f02",
   "metadata": {},
   "outputs": [],
   "source": [
    "# Fill the null values for Director with 'Unknown'\n",
    "movies['cast'] = movies['cast'].fillna('Unknown')"
   ]
  },
  {
   "cell_type": "markdown",
   "id": "0f55ab15-e670-4e41-bb96-0d8c7622fef2",
   "metadata": {},
   "source": [
    "***We replace the 'cast' null values with \"Unknown\" to preserve all rows (as best for analysis). It does not impact the analysis as it is not essential.***"
   ]
  },
  {
   "cell_type": "code",
   "execution_count": 48,
   "id": "8d40d402-bd42-4c57-aed3-d54e9cb8d6a0",
   "metadata": {},
   "outputs": [],
   "source": [
    "# Fill the null values for country with 'Unknown'\n",
    "movies['country'] = movies['country'].fillna('Unknown')"
   ]
  },
  {
   "cell_type": "markdown",
   "id": "e3c3cf15-7bbf-4eef-997c-e768f5b7bb5e",
   "metadata": {},
   "source": [
    "***We replace the 'country' null values with \"Unknown\" to preserve all rows. Moderate amount of nulls. Filling with \"Unknown\" preserves the ability to analyze all titles without skewing distributions.***"
   ]
  },
  {
   "cell_type": "code",
   "execution_count": 49,
   "id": "b8ca3699-f518-4a5e-a532-49400daa125e",
   "metadata": {},
   "outputs": [],
   "source": [
    "# Fill the null values for country with 'backward fill'\n",
    "movies['date_added'] = movies['date_added'].fillna(method='bfill')"
   ]
  },
  {
   "cell_type": "markdown",
   "id": "65e0d1eb-f119-488b-b57f-d7e7cfb66cd3",
   "metadata": {},
   "source": [
    "***We replace the 'date_added' null values with \"next cell value\" as there is a pattern in the data, where the rows with similar date_added are placed together in the dataset. We perform a backward fill using the value in the next row. We did not need to sort the dataset as the rows were sorted already. Furthermore, this does not affect the analysis.***"
   ]
  },
  {
   "cell_type": "code",
   "execution_count": 50,
   "id": "835d83a8-a4a2-4690-b340-b0c7d0c9d448",
   "metadata": {},
   "outputs": [],
   "source": [
    "# Drop all 10 rows with 'Null Rating'\n",
    "movies = movies.dropna(subset=['rating'])"
   ]
  },
  {
   "cell_type": "markdown",
   "id": "967183e6-c858-46da-bcc6-5acf581747e1",
   "metadata": {},
   "source": [
    "***We drop all the null values from the 'rating' column because there are only 10 null values and it is not a huge number compared to the total number of rows 5837.***"
   ]
  },
  {
   "cell_type": "code",
   "execution_count": 51,
   "id": "6472156c-9768-439d-883a-ba3d06f6f32c",
   "metadata": {},
   "outputs": [
    {
     "data": {
      "text/plain": [
       "show_id         0\n",
       "title           0\n",
       "director        0\n",
       "cast            0\n",
       "country         0\n",
       "date_added      0\n",
       "release_year    0\n",
       "rating          0\n",
       "duration        0\n",
       "listed_in       0\n",
       "description     0\n",
       "type            0\n",
       "dtype: int64"
      ]
     },
     "execution_count": 51,
     "metadata": {},
     "output_type": "execute_result"
    }
   ],
   "source": [
    "# Check total number of null values in columns\n",
    "movies.isnull().sum()"
   ]
  },
  {
   "cell_type": "code",
   "execution_count": 52,
   "id": "d1b02b77-66fa-4eaf-90b2-ba9233f80998",
   "metadata": {},
   "outputs": [
    {
     "data": {
      "text/plain": [
       "(5827, 12)"
      ]
     },
     "execution_count": 52,
     "metadata": {},
     "output_type": "execute_result"
    }
   ],
   "source": [
    "movies.shape"
   ]
  },
  {
   "cell_type": "code",
   "execution_count": 53,
   "id": "13fd0a36-57fb-4532-9d1e-ac1967d79bb1",
   "metadata": {},
   "outputs": [
    {
     "data": {
      "text/plain": [
       "show_id          int64\n",
       "title           object\n",
       "director        object\n",
       "cast            object\n",
       "country         object\n",
       "date_added      object\n",
       "release_year     int64\n",
       "rating          object\n",
       "duration        object\n",
       "listed_in       object\n",
       "description     object\n",
       "type            object\n",
       "dtype: object"
      ]
     },
     "execution_count": 53,
     "metadata": {},
     "output_type": "execute_result"
    }
   ],
   "source": [
    "# Check data types of all columns\n",
    "movies.dtypes"
   ]
  },
  {
   "cell_type": "markdown",
   "id": "6b3c16e8-6c1e-46ec-8913-df0f98135c28",
   "metadata": {},
   "source": [
    "***Here we notice that the date_added column must be converted to date-time format, however we do not use this in the analysis. \n",
    "Release year is better as integer as we conduct only yearly analysis, and it saves space.***"
   ]
  },
  {
   "cell_type": "code",
   "execution_count": 54,
   "id": "2015a829-2c63-4c5a-84cc-a4f34318244b",
   "metadata": {},
   "outputs": [],
   "source": [
    "# Convert 'date_added' to datetime\n",
    "movies['date_added'] = pd.to_datetime(movies['date_added'], errors='coerce')"
   ]
  },
  {
   "cell_type": "code",
   "execution_count": 55,
   "id": "eaf27a52-aa24-49f3-9570-5c6849f8368c",
   "metadata": {},
   "outputs": [
    {
     "data": {
      "text/plain": [
       "show_id                  int64\n",
       "title                   object\n",
       "director                object\n",
       "cast                    object\n",
       "country                 object\n",
       "date_added      datetime64[ns]\n",
       "release_year             int64\n",
       "rating                  object\n",
       "duration                object\n",
       "listed_in               object\n",
       "description             object\n",
       "type                    object\n",
       "dtype: object"
      ]
     },
     "execution_count": 55,
     "metadata": {},
     "output_type": "execute_result"
    }
   ],
   "source": [
    "# Verify data type change for date_added\n",
    "movies.dtypes"
   ]
  },
  {
   "cell_type": "markdown",
   "id": "60847ee9-8402-4e26-944a-bd239bbd2beb",
   "metadata": {},
   "source": [
    "## 3. Normalization of Country and Genre Columns ##"
   ]
  },
  {
   "cell_type": "markdown",
   "id": "887d024a-47c7-4e12-9d48-414b78d5342c",
   "metadata": {},
   "source": [
    "***There are a several columns with multiple comma separated values. Out of these columns, two of them (listed_in and country) are useful for our analysis, so we normalize them in this section. This means that we take those two columns into separate tables with the show_id as reference, and represent them as one 'country' value per row against the show_id.***"
   ]
  },
  {
   "cell_type": "code",
   "execution_count": 99,
   "id": "09c8c166-9548-4d0e-8657-e4646502eaa1",
   "metadata": {},
   "outputs": [],
   "source": [
    "# Create Main Table (normalized shows) and remove multi-value columns\n",
    "mv_shows = movies.drop(columns=['country', 'listed_in'])\n",
    "mv_shows.to_excel(\"nf_shows.xlsx\", index=False)"
   ]
  },
  {
   "cell_type": "code",
   "execution_count": 100,
   "id": "d6a6ab3c-27ef-4bc9-8d4f-956d61ba86e4",
   "metadata": {},
   "outputs": [],
   "source": [
    "# Normalize the country column\n",
    "mv_country = movies[['show_id', 'country']].dropna()\n",
    "mv_country['country'] = mv_country['country'].str.split(',')\n",
    "mv_country = mv_country.explode('country')\n",
    "mv_country['country'] = mv_country['country'].str.strip()"
   ]
  },
  {
   "cell_type": "code",
   "execution_count": 101,
   "id": "c749f2d0-4492-4fcd-908b-358d4a2652d1",
   "metadata": {},
   "outputs": [],
   "source": [
    "# Normalize the listed_in (genre) column\n",
    "mv_genre = movies[['show_id', 'listed_in']].dropna()\n",
    "mv_genre['listed_in'] = mv_genre['listed_in'].str.split(',')\n",
    "mv_genre = mv_genre.explode('listed_in')\n",
    "mv_genre['listed_in'] = mv_genre['listed_in'].str.strip()"
   ]
  },
  {
   "cell_type": "code",
   "execution_count": 102,
   "id": "b2ba7587-2ded-48f8-bf77-8826fd682913",
   "metadata": {},
   "outputs": [],
   "source": [
    "# Save to separate excel files\n",
    "mv_country.to_excel(\"nf_countries.xlsx\", index=False)\n",
    "mv_genre.to_excel(\"nf_genres.xlsx\", index=False)"
   ]
  },
  {
   "cell_type": "code",
   "execution_count": 103,
   "id": "10bdca1b-0ac1-4eb0-b109-cdb42d0d39da",
   "metadata": {},
   "outputs": [
    {
     "data": {
      "text/plain": [
       "show_id      0\n",
       "listed_in    0\n",
       "dtype: int64"
      ]
     },
     "execution_count": 103,
     "metadata": {},
     "output_type": "execute_result"
    }
   ],
   "source": [
    "mv_genre.isnull().sum()"
   ]
  },
  {
   "cell_type": "code",
   "execution_count": 104,
   "id": "dd1ad820-1be1-4323-b0ce-941d609ea44e",
   "metadata": {},
   "outputs": [
    {
     "data": {
      "text/plain": [
       "show_id    0\n",
       "country    0\n",
       "dtype: int64"
      ]
     },
     "execution_count": 104,
     "metadata": {},
     "output_type": "execute_result"
    }
   ],
   "source": [
    "mv_country.isnull().sum()"
   ]
  },
  {
   "cell_type": "code",
   "execution_count": 107,
   "id": "5d92e66f-0bc9-4d99-8a7b-661ec228f651",
   "metadata": {},
   "outputs": [
    {
     "data": {
      "text/html": [
       "<div>\n",
       "<style scoped>\n",
       "    .dataframe tbody tr th:only-of-type {\n",
       "        vertical-align: middle;\n",
       "    }\n",
       "\n",
       "    .dataframe tbody tr th {\n",
       "        vertical-align: top;\n",
       "    }\n",
       "\n",
       "    .dataframe thead th {\n",
       "        text-align: right;\n",
       "    }\n",
       "</style>\n",
       "<table border=\"1\" class=\"dataframe\">\n",
       "  <thead>\n",
       "    <tr style=\"text-align: right;\">\n",
       "      <th></th>\n",
       "      <th>show_id</th>\n",
       "      <th>listed_in</th>\n",
       "    </tr>\n",
       "  </thead>\n",
       "  <tbody>\n",
       "    <tr>\n",
       "      <th>0</th>\n",
       "      <td>81193313</td>\n",
       "      <td>International TV Shows</td>\n",
       "    </tr>\n",
       "    <tr>\n",
       "      <th>0</th>\n",
       "      <td>81193313</td>\n",
       "      <td>Korean TV Shows</td>\n",
       "    </tr>\n",
       "    <tr>\n",
       "      <th>0</th>\n",
       "      <td>81193313</td>\n",
       "      <td>Romantic TV Shows</td>\n",
       "    </tr>\n",
       "    <tr>\n",
       "      <th>1</th>\n",
       "      <td>81197050</td>\n",
       "      <td>Documentaries</td>\n",
       "    </tr>\n",
       "    <tr>\n",
       "      <th>1</th>\n",
       "      <td>81197050</td>\n",
       "      <td>International Movies</td>\n",
       "    </tr>\n",
       "  </tbody>\n",
       "</table>\n",
       "</div>"
      ],
      "text/plain": [
       "    show_id               listed_in\n",
       "0  81193313  International TV Shows\n",
       "0  81193313         Korean TV Shows\n",
       "0  81193313       Romantic TV Shows\n",
       "1  81197050           Documentaries\n",
       "1  81197050    International Movies"
      ]
     },
     "execution_count": 107,
     "metadata": {},
     "output_type": "execute_result"
    }
   ],
   "source": [
    "mv_genre.head(5)"
   ]
  },
  {
   "cell_type": "code",
   "execution_count": 108,
   "id": "69a70751-74d3-45ff-8c26-0ea6ab1e79be",
   "metadata": {},
   "outputs": [
    {
     "data": {
      "text/html": [
       "<div>\n",
       "<style scoped>\n",
       "    .dataframe tbody tr th:only-of-type {\n",
       "        vertical-align: middle;\n",
       "    }\n",
       "\n",
       "    .dataframe tbody tr th {\n",
       "        vertical-align: top;\n",
       "    }\n",
       "\n",
       "    .dataframe thead th {\n",
       "        text-align: right;\n",
       "    }\n",
       "</style>\n",
       "<table border=\"1\" class=\"dataframe\">\n",
       "  <thead>\n",
       "    <tr style=\"text-align: right;\">\n",
       "      <th></th>\n",
       "      <th>show_id</th>\n",
       "      <th>country</th>\n",
       "    </tr>\n",
       "  </thead>\n",
       "  <tbody>\n",
       "    <tr>\n",
       "      <th>0</th>\n",
       "      <td>81193313</td>\n",
       "      <td>South Korea</td>\n",
       "    </tr>\n",
       "    <tr>\n",
       "      <th>1</th>\n",
       "      <td>81197050</td>\n",
       "      <td>Unknown</td>\n",
       "    </tr>\n",
       "    <tr>\n",
       "      <th>2</th>\n",
       "      <td>81213894</td>\n",
       "      <td>India</td>\n",
       "    </tr>\n",
       "    <tr>\n",
       "      <th>3</th>\n",
       "      <td>81082007</td>\n",
       "      <td>France</td>\n",
       "    </tr>\n",
       "    <tr>\n",
       "      <th>3</th>\n",
       "      <td>81082007</td>\n",
       "      <td>Senegal</td>\n",
       "    </tr>\n",
       "  </tbody>\n",
       "</table>\n",
       "</div>"
      ],
      "text/plain": [
       "    show_id      country\n",
       "0  81193313  South Korea\n",
       "1  81197050      Unknown\n",
       "2  81213894        India\n",
       "3  81082007       France\n",
       "3  81082007      Senegal"
      ]
     },
     "execution_count": 108,
     "metadata": {},
     "output_type": "execute_result"
    }
   ],
   "source": [
    "mv_country.head(5)"
   ]
  },
  {
   "cell_type": "code",
   "execution_count": 109,
   "id": "1a1cc6d5-31d1-45b7-9f54-c87cc790615d",
   "metadata": {},
   "outputs": [
    {
     "data": {
      "text/html": [
       "<div>\n",
       "<style scoped>\n",
       "    .dataframe tbody tr th:only-of-type {\n",
       "        vertical-align: middle;\n",
       "    }\n",
       "\n",
       "    .dataframe tbody tr th {\n",
       "        vertical-align: top;\n",
       "    }\n",
       "\n",
       "    .dataframe thead th {\n",
       "        text-align: right;\n",
       "    }\n",
       "</style>\n",
       "<table border=\"1\" class=\"dataframe\">\n",
       "  <thead>\n",
       "    <tr style=\"text-align: right;\">\n",
       "      <th></th>\n",
       "      <th>show_id</th>\n",
       "      <th>title</th>\n",
       "      <th>director</th>\n",
       "      <th>cast</th>\n",
       "      <th>date_added</th>\n",
       "      <th>release_year</th>\n",
       "      <th>rating</th>\n",
       "      <th>duration</th>\n",
       "      <th>description</th>\n",
       "      <th>type</th>\n",
       "    </tr>\n",
       "  </thead>\n",
       "  <tbody>\n",
       "    <tr>\n",
       "      <th>0</th>\n",
       "      <td>81193313</td>\n",
       "      <td>Chocolate</td>\n",
       "      <td>Unknown</td>\n",
       "      <td>Ha Ji-won, Yoon Kye-sang, Jang Seung-jo, Kang ...</td>\n",
       "      <td>2019-11-30</td>\n",
       "      <td>2019</td>\n",
       "      <td>TV-14</td>\n",
       "      <td>1 Season</td>\n",
       "      <td>Brought together by meaningful meals in the pa...</td>\n",
       "      <td>TV Show</td>\n",
       "    </tr>\n",
       "    <tr>\n",
       "      <th>1</th>\n",
       "      <td>81197050</td>\n",
       "      <td>Guatemala: Heart of the Mayan World</td>\n",
       "      <td>Luis Ara, Ignacio Jaunsolo</td>\n",
       "      <td>Christian Morales</td>\n",
       "      <td>2019-11-30</td>\n",
       "      <td>2019</td>\n",
       "      <td>TV-G</td>\n",
       "      <td>67 min</td>\n",
       "      <td>From Sierra de las Minas to Esquipulas, explor...</td>\n",
       "      <td>Movie</td>\n",
       "    </tr>\n",
       "    <tr>\n",
       "      <th>2</th>\n",
       "      <td>81213894</td>\n",
       "      <td>The Zoya Factor</td>\n",
       "      <td>Abhishek Sharma</td>\n",
       "      <td>Sonam Kapoor, Dulquer Salmaan, Sanjay Kapoor, ...</td>\n",
       "      <td>2019-11-30</td>\n",
       "      <td>2019</td>\n",
       "      <td>TV-14</td>\n",
       "      <td>135 min</td>\n",
       "      <td>A goofy copywriter unwittingly convinces the I...</td>\n",
       "      <td>Movie</td>\n",
       "    </tr>\n",
       "    <tr>\n",
       "      <th>3</th>\n",
       "      <td>81082007</td>\n",
       "      <td>Atlantics</td>\n",
       "      <td>Mati Diop</td>\n",
       "      <td>Mama Sane, Amadou Mbow, Ibrahima Traore, Nicol...</td>\n",
       "      <td>2019-11-29</td>\n",
       "      <td>2019</td>\n",
       "      <td>TV-14</td>\n",
       "      <td>106 min</td>\n",
       "      <td>Arranged to marry a rich man, young Ada is cru...</td>\n",
       "      <td>Movie</td>\n",
       "    </tr>\n",
       "    <tr>\n",
       "      <th>4</th>\n",
       "      <td>80213643</td>\n",
       "      <td>Chip and Potato</td>\n",
       "      <td>Unknown</td>\n",
       "      <td>Abigail Oliver, Andrea Libman, Briana Buckmast...</td>\n",
       "      <td>2019-11-29</td>\n",
       "      <td>2019</td>\n",
       "      <td>TV-Y</td>\n",
       "      <td>2 Seasons</td>\n",
       "      <td>Lovable pug Chip starts kindergarten, makes ne...</td>\n",
       "      <td>TV Show</td>\n",
       "    </tr>\n",
       "  </tbody>\n",
       "</table>\n",
       "</div>"
      ],
      "text/plain": [
       "    show_id                                title                    director  \\\n",
       "0  81193313                            Chocolate                     Unknown   \n",
       "1  81197050  Guatemala: Heart of the Mayan World  Luis Ara, Ignacio Jaunsolo   \n",
       "2  81213894                      The Zoya Factor             Abhishek Sharma   \n",
       "3  81082007                            Atlantics                   Mati Diop   \n",
       "4  80213643                      Chip and Potato                     Unknown   \n",
       "\n",
       "                                                cast date_added  release_year  \\\n",
       "0  Ha Ji-won, Yoon Kye-sang, Jang Seung-jo, Kang ... 2019-11-30          2019   \n",
       "1                                  Christian Morales 2019-11-30          2019   \n",
       "2  Sonam Kapoor, Dulquer Salmaan, Sanjay Kapoor, ... 2019-11-30          2019   \n",
       "3  Mama Sane, Amadou Mbow, Ibrahima Traore, Nicol... 2019-11-29          2019   \n",
       "4  Abigail Oliver, Andrea Libman, Briana Buckmast... 2019-11-29          2019   \n",
       "\n",
       "  rating   duration                                        description  \\\n",
       "0  TV-14   1 Season  Brought together by meaningful meals in the pa...   \n",
       "1   TV-G     67 min  From Sierra de las Minas to Esquipulas, explor...   \n",
       "2  TV-14    135 min  A goofy copywriter unwittingly convinces the I...   \n",
       "3  TV-14    106 min  Arranged to marry a rich man, young Ada is cru...   \n",
       "4   TV-Y  2 Seasons  Lovable pug Chip starts kindergarten, makes ne...   \n",
       "\n",
       "      type  \n",
       "0  TV Show  \n",
       "1    Movie  \n",
       "2    Movie  \n",
       "3    Movie  \n",
       "4  TV Show  "
      ]
     },
     "execution_count": 109,
     "metadata": {},
     "output_type": "execute_result"
    }
   ],
   "source": [
    "mv_shows.head(5)"
   ]
  },
  {
   "cell_type": "markdown",
   "id": "475a3429-e7aa-4363-8b1d-8785f87f888a",
   "metadata": {},
   "source": [
    "***In the above normalization task, we created separate tables for country and genre, linked by show_id. They now have one value per cell ad intended. Then we dropped those two columns from the show table. Although the director and cast columns are not normalized, we leave them as it is as we do not use it in the analysis. The Netflix dataset is now ready for analysis.***"
   ]
  },
  {
   "cell_type": "markdown",
   "id": "1109978e-c5b4-48d6-af44-e2e7102682ce",
   "metadata": {},
   "source": [
    "## Dataset Analysis ##"
   ]
  },
  {
   "cell_type": "markdown",
   "id": "17a3a93c-1a9b-466f-a7f2-0212338e7f8d",
   "metadata": {},
   "source": [
    "***PART1 - Business Problem:\n",
    "Netflix, the streaming company wants to understand its existing content catalog. What are the dominant content types (Movie vs TV Show), and how are they distributed by year and genre?***\n"
   ]
  },
  {
   "cell_type": "code",
   "execution_count": 69,
   "id": "86f2d052-4b5c-4587-b1d2-53fd6bc83a27",
   "metadata": {},
   "outputs": [],
   "source": [
    "import pandas as pd\n",
    "# Load normalized show table\n",
    "shows = pd.read_excel(\"nf_shows.xlsx\")"
   ]
  },
  {
   "cell_type": "code",
   "execution_count": 70,
   "id": "4cc56674-41b0-4c5d-9556-49d692393e0b",
   "metadata": {},
   "outputs": [],
   "source": [
    "import matplotlib.pyplot as plt\n",
    "import seaborn as sns"
   ]
  },
  {
   "cell_type": "markdown",
   "id": "f682c6dc-fb0b-4043-b216-02e94e640ad2",
   "metadata": {},
   "source": [
    "***Dominant Content Types***"
   ]
  },
  {
   "cell_type": "code",
   "execution_count": 111,
   "id": "9431f630-bdf1-4a1a-a2b0-ded8abd4bd59",
   "metadata": {},
   "outputs": [
    {
     "data": {
      "text/plain": [
       "<function matplotlib.pyplot.show(close=None, block=None)>"
      ]
     },
     "execution_count": 111,
     "metadata": {},
     "output_type": "execute_result"
    },
    {
     "data": {
      "image/png": "[encoded data removed]",
      "text/plain": [
       "<Figure size 600x400 with 1 Axes>"
      ]
     },
     "metadata": {},
     "output_type": "display_data"
    }
   ],
   "source": [
    "# Plot the countplot graph to identify content by type.\n",
    "plt.figure(figsize=(6, 4))\n",
    "ax = sns.countplot(data=shows, x='type', palette='Set2')\n",
    "\n",
    "# Add count labels on top of bars\n",
    "for p in ax.patches:\n",
    "    height = p.get_height()\n",
    "    ax.text(\n",
    "        x=p.get_x() + p.get_width() / 2,\n",
    "        y=height + 5,  # slightly above the bar\n",
    "        s=f'{int(height)}',\n",
    "        ha='center',\n",
    "        va='bottom',\n",
    "        fontsize=10\n",
    "    )\n",
    "    \n",
    "plt.title(\"Netflix Content by Type\")\n",
    "plt.xlabel(\"Type\")\n",
    "plt.ylabel(\"Count\")\n",
    "plt.show"
   ]
  },
  {
   "cell_type": "markdown",
   "id": "c824e0b7-fc9d-4195-bbb3-3712aa38e657",
   "metadata": {},
   "source": [
    "***Insights: Overall, Netflix has more Movies than TV Shows. The number of Movies is a little more than twice the number of TV Shows.***"
   ]
  },
  {
   "cell_type": "markdown",
   "id": "ad28ab49-27f6-43c9-aa38-b704fdb3a845",
   "metadata": {},
   "source": [
    "***Content Added to Netflix by Year***"
   ]
  },
  {
   "cell_type": "code",
   "execution_count": 116,
   "id": "d3c49f2d-c481-44bd-9b7b-898df93d50e5",
   "metadata": {},
   "outputs": [],
   "source": [
    "# Extract year from 'date_added'\n",
    "shows['year_added'] = shows['date_added'].dt.year"
   ]
  },
  {
   "cell_type": "code",
   "execution_count": 117,
   "id": "a39b6650-6354-49f1-ab7f-dccb26b23ce9",
   "metadata": {},
   "outputs": [
    {
     "data": {
      "text/plain": [
       "<function matplotlib.pyplot.show(close=None, block=None)>"
      ]
     },
     "execution_count": 117,
     "metadata": {},
     "output_type": "execute_result"
    },
    {
     "data": {
      "image/png": "[encoded data removed]",
      "text/plain": [
       "<Figure size 1000x500 with 1 Axes>"
      ]
     },
     "metadata": {},
     "output_type": "display_data"
    }
   ],
   "source": [
    "# Plot the countplot graph to identify content by date_added.\n",
    "content_by_year = shows['year_added'].value_counts().sort_index()\n",
    "plt.figure(figsize=(10,5))\n",
    "\n",
    "ax = sns.barplot(x=content_by_year.index, y=content_by_year.values)\n",
    "\n",
    "# Add labels on top of each bar\n",
    "for i, value in enumerate(content_by_year.values):\n",
    "    ax.text(\n",
    "        x=i,\n",
    "        y=value + 5,\n",
    "        s=str(value),\n",
    "        ha='center',\n",
    "        va='bottom',\n",
    "        fontsize=9\n",
    "    )\n",
    "\n",
    "content_by_year.plot(kind='bar')\n",
    "plt.title(\"Content Added to Netflix by Year\")\n",
    "plt.xlabel(\"Year\")\n",
    "plt.ylabel(\"Number of Titles\")\n",
    "plt.xticks(rotation=45)\n",
    "plt.tight_layout()\n",
    "plt.show"
   ]
  },
  {
   "cell_type": "markdown",
   "id": "af5fefd9-8c4a-490d-b230-fd4ff85e9bd0",
   "metadata": {},
   "source": [
    "***Insights: There is a significant growing trend in content from 2015 to 2019. From 2014 to 2016 the number almost quadrupled each year. Then from 2016 to 2017 the content grew by 2.5 times.***"
   ]
  },
  {
   "cell_type": "markdown",
   "id": "bd28109a-4fba-4e0b-8990-12887a789fe7",
   "metadata": {},
   "source": [
    "***Top 10 Genres***"
   ]
  },
  {
   "cell_type": "code",
   "execution_count": 74,
   "id": "b3c57186-6f8a-4232-98bc-91ca00f40aec",
   "metadata": {},
   "outputs": [],
   "source": [
    "genres = pd.read_excel(\"nf_genres.xlsx\")"
   ]
  },
  {
   "cell_type": "code",
   "execution_count": 75,
   "id": "73d0a182-1ca4-468c-a14b-eccebd76714d",
   "metadata": {},
   "outputs": [],
   "source": [
    "top_genres = genres['listed_in'].value_counts().head(10)"
   ]
  },
  {
   "cell_type": "code",
   "execution_count": 76,
   "id": "f6d82c23-b78a-4cf3-acbb-21671f124862",
   "metadata": {},
   "outputs": [
    {
     "data": {
      "image/png": "[encoded data removed]",
      "text/plain": [
       "<Figure size 1000x500 with 1 Axes>"
      ]
     },
     "metadata": {},
     "output_type": "display_data"
    }
   ],
   "source": [
    "plt.figure(figsize=(10,5))\n",
    "sns.barplot(x=top_genres.values, y=top_genres.index, palette='viridis')\n",
    "plt.title(\"Top 10 Genres on Netflix\")\n",
    "plt.xlabel(\"Number of Titles\")\n",
    "plt.ylabel(\"Genre\")\n",
    "plt.tight_layout()\n",
    "plt.show()"
   ]
  },
  {
   "cell_type": "markdown",
   "id": "cabd4ed7-3f41-43b1-a1af-fcf258b48409",
   "metadata": {},
   "source": [
    "***Insights: The most common genres are International Movies and Dramas. Comedies and International TV shows were in close numbers at third place.***"
   ]
  },
  {
   "cell_type": "markdown",
   "id": "47160266-6c02-4340-b54f-950f82bb301b",
   "metadata": {},
   "source": [
    "***Trends by Year***"
   ]
  },
  {
   "cell_type": "code",
   "execution_count": 77,
   "id": "2956223d-6aa4-42b9-aad2-64a464ba1b75",
   "metadata": {},
   "outputs": [
    {
     "data": {
      "image/png": "[encoded data removed]",
      "text/plain": [
       "<Figure size 1200x600 with 1 Axes>"
      ]
     },
     "metadata": {},
     "output_type": "display_data"
    }
   ],
   "source": [
    "type_year = shows.groupby(['year_added', 'type']).size().unstack().fillna(0)\n",
    "\n",
    "type_year.plot(kind='bar', stacked=True, figsize=(12,6))\n",
    "plt.title(\"Netflix Content by Type Over the Years\")\n",
    "plt.xlabel(\"Year\")\n",
    "plt.ylabel(\"Number of Titles\")\n",
    "plt.xticks(rotation=45)\n",
    "plt.tight_layout()\n",
    "plt.show()"
   ]
  },
  {
   "cell_type": "markdown",
   "id": "04b1e610-48be-41df-8f14-67fb9ae378b8",
   "metadata": {},
   "source": [
    "***Insights: Movies and TV Shows grew significantly from 2014 to 2019. From 2014 to 2017, the numbers almost tripled. While the number od TV Shows were lesser than Movies, both segments grew significantly until 2019.***"
   ]
  },
  {
   "cell_type": "markdown",
   "id": "548afffc-238e-4849-ac92-8250f95a623c",
   "metadata": {},
   "source": [
    "***PART 2 - Business Problem: \n",
    "Netflix wants to understand content diversity and which countries dominate which genres. Where are there gaps to expand?***\n"
   ]
  },
  {
   "cell_type": "code",
   "execution_count": 78,
   "id": "97e8864c-909d-41db-8243-8822546b89d8",
   "metadata": {},
   "outputs": [],
   "source": [
    "countries = pd.read_excel(\"nf_countries.xlsx\")"
   ]
  },
  {
   "cell_type": "markdown",
   "id": "d2c7cb13-af06-4357-be5d-d1bf9075b6d6",
   "metadata": {},
   "source": [
    "***Top Content Producing Countries***"
   ]
  },
  {
   "cell_type": "code",
   "execution_count": 79,
   "id": "cd912369-269a-40b8-b8de-469f986d0cd7",
   "metadata": {},
   "outputs": [],
   "source": [
    "# Merge countries and genres\n",
    "shows_cg = countries.merge(genres, on='show_id')\n",
    "\n",
    "# Join with shows (to get type)\n",
    "shows_cg = shows_cg.merge(shows[['show_id', 'type']], on='show_id')"
   ]
  },
  {
   "cell_type": "code",
   "execution_count": 80,
   "id": "b98d4395-b10f-4796-914d-0ffcd29388ae",
   "metadata": {},
   "outputs": [
    {
     "data": {
      "text/plain": [
       "<Axes: title={'center': 'Top 10 Content-Producing Countries'}, ylabel='country'>"
      ]
     },
     "execution_count": 80,
     "metadata": {},
     "output_type": "execute_result"
    },
    {
     "data": {
      "image/png": "[encoded data removed]",
      "text/plain": [
       "<Figure size 1000x600 with 1 Axes>"
      ]
     },
     "metadata": {},
     "output_type": "display_data"
    }
   ],
   "source": [
    "top_countries = countries['country'].value_counts().head(10)\n",
    "top_countries.plot(kind='barh', figsize=(10,6), title='Top 10 Content-Producing Countries')"
   ]
  },
  {
   "cell_type": "markdown",
   "id": "afefd659-cf5a-4e38-aaf4-205447b57db2",
   "metadata": {},
   "source": [
    "***Insights: United States dominates content production on Netflix, while India comes in second and the United Kingdom as the third.***"
   ]
  },
  {
   "cell_type": "markdown",
   "id": "db918a12-80b3-4447-ba97-bdeb9425ccb4",
   "metadata": {},
   "source": [
    "***Genre vs. Country***"
   ]
  },
  {
   "cell_type": "code",
   "execution_count": 81,
   "id": "854f45c4-ed1d-433c-898b-d64b6002e624",
   "metadata": {},
   "outputs": [
    {
     "data": {
      "image/png": "[encoded data removed]",
      "text/plain": [
       "<Figure size 1200x600 with 2 Axes>"
      ]
     },
     "metadata": {},
     "output_type": "display_data"
    }
   ],
   "source": [
    "# Create pivot table for heatmap\n",
    "heatmap_data = shows_cg.pivot_table(index='listed_in', columns='country', aggfunc='size', fill_value=0)\n",
    "\n",
    "# Filter top 10 countries and genres for clarity\n",
    "top_genres = heatmap_data.sum(axis=1).sort_values(ascending=False).head(10).index\n",
    "top_countries = heatmap_data.sum(axis=0).sort_values(ascending=False).head(10).index\n",
    "heatmap_data = heatmap_data.loc[top_genres, top_countries]\n",
    "\n",
    "# Plot heatmap\n",
    "plt.figure(figsize=(12, 6))\n",
    "sns.heatmap(heatmap_data, cmap=\"YlGnBu\", annot=True, fmt='d')\n",
    "plt.title(\"Genre vs Country Heatmap - Top 10\")\n",
    "plt.ylabel(\"Genre\")\n",
    "plt.xlabel(\"Country\")\n",
    "plt.tight_layout()\n",
    "plt.show()"
   ]
  },
  {
   "cell_type": "markdown",
   "id": "42447191-563b-4473-8711-89e7cdccf2db",
   "metadata": {},
   "source": [
    "***Insights: We see which countries dominate certain genres. United States dominates the Dramas, Comedies and Documentaries, while India leads in International Movies and Dramas.***"
   ]
  },
  {
   "cell_type": "markdown",
   "id": "acd95a1b-02d0-4bd8-8c71-d45004001b06",
   "metadata": {},
   "source": [
    "***Number of Titles per Country on a World Map***"
   ]
  },
  {
   "cell_type": "code",
   "execution_count": 82,
   "id": "22f458bd-3b60-4c3c-a84d-83ba12441630",
   "metadata": {},
   "outputs": [
    {
     "name": "stdout",
     "output_type": "stream",
     "text": [
      "Requirement already satisfied: plotly in /Library/Frameworks/Python.framework/Versions/3.8/lib/python3.8/site-packages (6.1.2)\n",
      "Requirement already satisfied: pycountry in /Library/Frameworks/Python.framework/Versions/3.8/lib/python3.8/site-packages (24.6.1)\n",
      "Requirement already satisfied: openpyxl in /Library/Frameworks/Python.framework/Versions/3.8/lib/python3.8/site-packages (3.1.5)\n",
      "Requirement already satisfied: narwhals>=1.15.1 in /Library/Frameworks/Python.framework/Versions/3.8/lib/python3.8/site-packages (from plotly) (1.42.1)\n",
      "Requirement already satisfied: packaging in /Library/Frameworks/Python.framework/Versions/3.8/lib/python3.8/site-packages (from plotly) (24.0)\n",
      "Requirement already satisfied: importlib-resources>5.12.0 in /Library/Frameworks/Python.framework/Versions/3.8/lib/python3.8/site-packages (from pycountry) (6.4.0)\n",
      "Requirement already satisfied: et-xmlfile in /Library/Frameworks/Python.framework/Versions/3.8/lib/python3.8/site-packages (from openpyxl) (1.1.0)\n",
      "Requirement already satisfied: zipp>=3.1.0 in /Library/Frameworks/Python.framework/Versions/3.8/lib/python3.8/site-packages (from importlib-resources>5.12.0->pycountry) (3.18.1)\n",
      "\n",
      "\u001b[1m[\u001b[0m\u001b[34;49mnotice\u001b[0m\u001b[1;39;49m]\u001b[0m\u001b[39;49m A new release of pip is available: \u001b[0m\u001b[31;49m24.3.1\u001b[0m\u001b[39;49m -> \u001b[0m\u001b[32;49m25.0.1\u001b[0m\n",
      "\u001b[1m[\u001b[0m\u001b[34;49mnotice\u001b[0m\u001b[1;39;49m]\u001b[0m\u001b[39;49m To update, run: \u001b[0m\u001b[32;49mpip3.8 install --upgrade pip\u001b[0m\n",
      "Note: you may need to restart the kernel to use updated packages.\n"
     ]
    }
   ],
   "source": [
    "pip install plotly pycountry openpyxl"
   ]
  },
  {
   "cell_type": "code",
   "execution_count": 83,
   "id": "95aabb5d-add0-4c2b-a419-bc520f42d3ef",
   "metadata": {},
   "outputs": [
    {
     "name": "stdout",
     "output_type": "stream",
     "text": [
      "Requirement already satisfied: pycountry in /Library/Frameworks/Python.framework/Versions/3.8/lib/python3.8/site-packages (24.6.1)\n",
      "Requirement already satisfied: importlib-resources>5.12.0 in /Library/Frameworks/Python.framework/Versions/3.8/lib/python3.8/site-packages (from pycountry) (6.4.0)\n",
      "Requirement already satisfied: zipp>=3.1.0 in /Library/Frameworks/Python.framework/Versions/3.8/lib/python3.8/site-packages (from importlib-resources>5.12.0->pycountry) (3.18.1)\n",
      "\n",
      "\u001b[1m[\u001b[0m\u001b[34;49mnotice\u001b[0m\u001b[1;39;49m]\u001b[0m\u001b[39;49m A new release of pip is available: \u001b[0m\u001b[31;49m24.3.1\u001b[0m\u001b[39;49m -> \u001b[0m\u001b[32;49m25.0.1\u001b[0m\n",
      "\u001b[1m[\u001b[0m\u001b[34;49mnotice\u001b[0m\u001b[1;39;49m]\u001b[0m\u001b[39;49m To update, run: \u001b[0m\u001b[32;49mpip3.8 install --upgrade pip\u001b[0m\n",
      "Note: you may need to restart the kernel to use updated packages.\n"
     ]
    }
   ],
   "source": [
    "pip install pycountry"
   ]
  },
  {
   "cell_type": "code",
   "execution_count": 84,
   "id": "f9fc573d-6c04-4b52-b9b5-c820964c74d3",
   "metadata": {},
   "outputs": [],
   "source": [
    "# Count number of titles per country\n",
    "country_counts = countries['country'].value_counts().reset_index()\n",
    "country_counts.columns = ['country', 'count']"
   ]
  },
  {
   "cell_type": "code",
   "execution_count": 87,
   "id": "8ebaa236-9e12-443b-a0d8-89aaa048fdbe",
   "metadata": {},
   "outputs": [],
   "source": [
    "import pycountry\n",
    "\n",
    "# Function to convert country names to ISO 3-letter codes\n",
    "def get_iso3(country_name):\n",
    "    try:\n",
    "        return pycountry.countries.lookup(country_name).alpha_3\n",
    "    except LookupError:\n",
    "        return None\n",
    "\n",
    "# Add ISO codes\n",
    "country_counts['Location'] = country_counts['country'].apply(get_iso3)\n",
    "\n",
    "# Drop rows where mapping failed\n",
    "country_counts = country_counts.dropna(subset=['iso_alpha'])"
   ]
  },
  {
   "cell_type": "code",
   "execution_count": 89,
   "id": "d08ddbc0-83d3-468e-9bc2-5c1be34502bb",
   "metadata": {},
   "outputs": [
    {
     "data": {
      "application/vnd.plotly.v1+json": {
       "config": {
        "plotlyServerURL": "https://plot.ly"
       },
       "data": [
        {
         "coloraxis": "coloraxis",
         "geo": "geo",
         "hovertemplate": "<b>%{hovertext}</b><br><br>Location=%{location}<br>count=%{z}<extra></extra>",
         "hovertext": [
          "United States",
          "India",
          "United Kingdom",
          "Canada",
          "France",
          "Japan",
          "Spain",
          "South Korea",
          "Germany",
          "Mexico",
          "Australia",
          "China",
          "Hong Kong",
          "Taiwan",
          "Argentina",
          "Belgium",
          "Brazil",
          "Italy",
          "Thailand",
          "Egypt",
          "Indonesia",
          "Philippines",
          "Denmark",
          "Netherlands",
          "Colombia",
          "Ireland",
          "Sweden",
          "Singapore",
          "Nigeria",
          "South Africa",
          "Israel",
          "Poland",
          "Chile",
          "Pakistan",
          "United Arab Emirates",
          "New Zealand",
          "Malaysia",
          "Norway",
          "Switzerland",
          "Czech Republic",
          "Austria",
          "Lebanon",
          "Peru",
          "Uruguay",
          "Finland",
          "Greece",
          "Bulgaria",
          "Luxembourg",
          "Qatar",
          "Jordan",
          "Iceland",
          "Morocco",
          "Romania",
          "Portugal",
          "Iran",
          "Hungary",
          "Vietnam",
          "Serbia",
          "Croatia",
          "Cambodia",
          "Ukraine",
          "Slovenia",
          "Venezuela",
          "Malta",
          "Dominican Republic",
          "Saudi Arabia",
          "Georgia",
          "Nepal",
          "Bangladesh",
          "Zimbabwe",
          "Iraq",
          "Senegal",
          "Armenia",
          "Mongolia",
          "Panama",
          "Latvia",
          "Nicaragua",
          "Kazakhstan",
          "Slovakia",
          "Botswana",
          "Sri Lanka",
          "Bermuda",
          "Afghanistan",
          "Montenegro",
          "Azerbaijan",
          "Cuba",
          "Samoa",
          "Syria",
          "Namibia",
          "Sudan",
          "Kenya",
          "Somalia",
          "Guatemala",
          "Kuwait",
          "Albania",
          "Uganda",
          "Cayman Islands",
          "Paraguay",
          "Malawi",
          "Ghana",
          "Cyprus",
          "Liechtenstein",
          "Ecuador"
         ],
         "locations": [
          "USA",
          "IND",
          "GBR",
          "CAN",
          "FRA",
          "JPN",
          "ESP",
          "KOR",
          "DEU",
          "MEX",
          "AUS",
          "CHN",
          "HKG",
          "TWN",
          "ARG",
          "BEL",
          "BRA",
          "ITA",
          "THA",
          "EGY",
          "IDN",
          "PHL",
          "DNK",
          "NLD",
          "COL",
          "IRL",
          "SWE",
          "SGP",
          "NGA",
          "ZAF",
          "ISR",
          "POL",
          "CHL",
          "PAK",
          "ARE",
          "NZL",
          "MYS",
          "NOR",
          "CHE",
          "CZE",
          "AUT",
          "LBN",
          "PER",
          "URY",
          "FIN",
          "GRC",
          "BGR",
          "LUX",
          "QAT",
          "JOR",
          "ISL",
          "MAR",
          "ROU",
          "PRT",
          "IRN",
          "HUN",
          "VNM",
          "SRB",
          "HRV",
          "KHM",
          "UKR",
          "SVN",
          "VEN",
          "MLT",
          "DOM",
          "SAU",
          "GEO",
          "NPL",
          "BGD",
          "ZWE",
          "IRQ",
          "SEN",
          "ARM",
          "MNG",
          "PAN",
          "LVA",
          "NIC",
          "KAZ",
          "SVK",
          "BWA",
          "LKA",
          "BMU",
          "AFG",
          "MNE",
          "AZE",
          "CUB",
          "WSM",
          "SYR",
          "NAM",
          "SDN",
          "KEN",
          "SOM",
          "GTM",
          "KWT",
          "ALB",
          "UGA",
          "CYM",
          "PRY",
          "MWI",
          "GHA",
          "CYP",
          "LIE",
          "ECU"
         ],
         "name": "",
         "type": "choropleth",
         "z": {
          "_inputArray": {
           "0": 2418,
           "1": 753,
           "10": 120,
           "100": 1,
           "101": 1,
           "102": 1,
           "11": 117,
           "12": 96,
           "13": 73,
           "14": 66,
           "15": 63,
           "16": 63,
           "17": 62,
           "18": 56,
           "19": 53,
           "2": 559,
           "20": 50,
           "21": 46,
           "22": 37,
           "23": 36,
           "24": 36,
           "25": 33,
           "26": 32,
           "27": 29,
           "28": 26,
           "29": 26,
           "3": 300,
           "30": 25,
           "31": 25,
           "32": 23,
           "33": 23,
           "34": 21,
           "35": 21,
           "36": 20,
           "37": 20,
           "38": 15,
           "39": 15,
           "4": 255,
           "40": 9,
           "41": 9,
           "42": 9,
           "43": 8,
           "44": 8,
           "45": 8,
           "46": 7,
           "47": 7,
           "48": 6,
           "49": 6,
           "5": 215,
           "50": 6,
           "51": 6,
           "52": 5,
           "53": 4,
           "54": 4,
           "55": 4,
           "56": 4,
           "57": 4,
           "58": 4,
           "59": 3,
           "6": 173,
           "60": 3,
           "61": 3,
           "62": 3,
           "63": 2,
           "64": 2,
           "65": 2,
           "66": 2,
           "67": 2,
           "68": 2,
           "69": 2,
           "7": 155,
           "70": 2,
           "71": 2,
           "72": 1,
           "73": 1,
           "74": 1,
           "75": 1,
           "76": 1,
           "77": 1,
           "78": 1,
           "79": 1,
           "8": 135,
           "80": 1,
           "81": 1,
           "82": 1,
           "83": 1,
           "84": 1,
           "85": 1,
           "86": 1,
           "87": 1,
           "88": 1,
           "89": 1,
           "9": 122,
           "90": 1,
           "91": 1,
           "92": 1,
           "93": 1,
           "94": 1,
           "95": 1,
           "96": 1,
           "97": 1,
           "98": 1,
           "99": 1,
           "bdata": "cgnxAi8CLAH/ANcArQCbAIcAegB4AHUAYABJAEIAPwA/AD4AOAA1ADIALgAlACQAJAAhACAAHQAaABoAGQAZABcAFwAVABUAFAAUAA8ADwAJAAkACQAIAAgACAAHAAcABgAGAAYABgAFAAQABAAEAAQABAAEAAMAAwADAAMAAgACAAIAAgACAAIAAgACAAIAAQABAAEAAQABAAEAAQABAAEAAQABAAEAAQABAAEAAQABAAEAAQABAAEAAQABAAEAAQABAAEAAQABAAEAAQA=",
           "dtype": "i2",
           "shape": "103"
          },
          "bdata": "cgnxAi8CLAH/ANcArQCbAIcAegB4AHUAYABJAEIAPwA/AD4AOAA1ADIALgAlACQAJAAhACAAHQAaABoAGQAZABcAFwAVABUAFAAUAA8ADwAJAAkACQAIAAgACAAHAAcABgAGAAYABgAFAAQABAAEAAQABAAEAAMAAwADAAMAAgACAAIAAgACAAIAAgACAAIAAQABAAEAAQABAAEAAQABAAEAAQABAAEAAQABAAEAAQABAAEAAQABAAEAAQABAAEAAQABAAEAAQABAAEAAQA=",
          "dtype": "i2"
         }
        }
       ],
       "layout": {
        "coloraxis": {
         "colorbar": {
          "title": {
           "text": "count"
          }
         },
         "colorscale": [
          [
           0,
           "#440154"
          ],
          [
           0.1111111111111111,
           "#482878"
          ],
          [
           0.2222222222222222,
           "#3e4989"
          ],
          [
           0.3333333333333333,
           "#31688e"
          ],
          [
           0.4444444444444444,
           "#26828e"
          ],
          [
           0.5555555555555556,
           "#1f9e89"
          ],
          [
           0.6666666666666666,
           "#35b779"
          ],
          [
           0.7777777777777778,
           "#6ece58"
          ],
          [
           0.8888888888888888,
           "#b5de2b"
          ],
          [
           1,
           "#fde725"
          ]
         ]
        },
        "geo": {
         "center": {
          "lat": 26.866732804613658,
          "lon": -44.767355543924864
         },
         "domain": {
          "x": [
           0,
           1
          ],
          "y": [
           0,
           1
          ]
         },
         "projection": {
          "rotation": {
           "lon": -44.767355543924864
          },
          "scale": 0.8717582395370709
         }
        },
        "height": 600,
        "legend": {
         "tracegroupgap": 0
        },
        "margin": {
         "b": 0,
         "l": 0,
         "r": 0,
         "t": 50
        },
        "template": {
         "data": {
          "bar": [
           {
            "error_x": {
             "color": "#2a3f5f"
            },
            "error_y": {
             "color": "#2a3f5f"
            },
            "marker": {
             "line": {
              "color": "#E5ECF6",
              "width": 0.5
             },
             "pattern": {
              "fillmode": "overlay",
              "size": 10,
              "solidity": 0.2
             }
            },
            "type": "bar"
           }
          ],
          "barpolar": [
           {
            "marker": {
             "line": {
              "color": "#E5ECF6",
              "width": 0.5
             },
             "pattern": {
              "fillmode": "overlay",
              "size": 10,
              "solidity": 0.2
             }
            },
            "type": "barpolar"
           }
          ],
          "carpet": [
           {
            "aaxis": {
             "endlinecolor": "#2a3f5f",
             "gridcolor": "white",
             "linecolor": "white",
             "minorgridcolor": "white",
             "startlinecolor": "#2a3f5f"
            },
            "baxis": {
             "endlinecolor": "#2a3f5f",
             "gridcolor": "white",
             "linecolor": "white",
             "minorgridcolor": "white",
             "startlinecolor": "#2a3f5f"
            },
            "type": "carpet"
           }
          ],
          "choropleth": [
           {
            "colorbar": {
             "outlinewidth": 0,
             "ticks": ""
            },
            "type": "choropleth"
           }
          ],
          "contour": [
           {
            "colorbar": {
             "outlinewidth": 0,
             "ticks": ""
            },
            "colorscale": [
             [
              0,
              "#0d0887"
             ],
             [
              0.1111111111111111,
              "#46039f"
             ],
             [
              0.2222222222222222,
              "#7201a8"
             ],
             [
              0.3333333333333333,
              "#9c179e"
             ],
             [
              0.4444444444444444,
              "#bd3786"
             ],
             [
              0.5555555555555556,
              "#d8576b"
             ],
             [
              0.6666666666666666,
              "#ed7953"
             ],
             [
              0.7777777777777778,
              "#fb9f3a"
             ],
             [
              0.8888888888888888,
              "#fdca26"
             ],
             [
              1,
              "#f0f921"
             ]
            ],
            "type": "contour"
           }
          ],
          "contourcarpet": [
           {
            "colorbar": {
             "outlinewidth": 0,
             "ticks": ""
            },
            "type": "contourcarpet"
           }
          ],
          "heatmap": [
           {
            "colorbar": {
             "outlinewidth": 0,
             "ticks": ""
            },
            "colorscale": [
             [
              0,
              "#0d0887"
             ],
             [
              0.1111111111111111,
              "#46039f"
             ],
             [
              0.2222222222222222,
              "#7201a8"
             ],
             [
              0.3333333333333333,
              "#9c179e"
             ],
             [
              0.4444444444444444,
              "#bd3786"
             ],
             [
              0.5555555555555556,
              "#d8576b"
             ],
             [
              0.6666666666666666,
              "#ed7953"
             ],
             [
              0.7777777777777778,
              "#fb9f3a"
             ],
             [
              0.8888888888888888,
              "#fdca26"
             ],
             [
              1,
              "#f0f921"
             ]
            ],
            "type": "heatmap"
           }
          ],
          "histogram": [
           {
            "marker": {
             "pattern": {
              "fillmode": "overlay",
              "size": 10,
              "solidity": 0.2
             }
            },
            "type": "histogram"
           }
          ],
          "histogram2d": [
           {
            "colorbar": {
             "outlinewidth": 0,
             "ticks": ""
            },
            "colorscale": [
             [
              0,
              "#0d0887"
             ],
             [
              0.1111111111111111,
              "#46039f"
             ],
             [
              0.2222222222222222,
              "#7201a8"
             ],
             [
              0.3333333333333333,
              "#9c179e"
             ],
             [
              0.4444444444444444,
              "#bd3786"
             ],
             [
              0.5555555555555556,
              "#d8576b"
             ],
             [
              0.6666666666666666,
              "#ed7953"
             ],
             [
              0.7777777777777778,
              "#fb9f3a"
             ],
             [
              0.8888888888888888,
              "#fdca26"
             ],
             [
              1,
              "#f0f921"
             ]
            ],
            "type": "histogram2d"
           }
          ],
          "histogram2dcontour": [
           {
            "colorbar": {
             "outlinewidth": 0,
             "ticks": ""
            },
            "colorscale": [
             [
              0,
              "#0d0887"
             ],
             [
              0.1111111111111111,
              "#46039f"
             ],
             [
              0.2222222222222222,
              "#7201a8"
             ],
             [
              0.3333333333333333,
              "#9c179e"
             ],
             [
              0.4444444444444444,
              "#bd3786"
             ],
             [
              0.5555555555555556,
              "#d8576b"
             ],
             [
              0.6666666666666666,
              "#ed7953"
             ],
             [
              0.7777777777777778,
              "#fb9f3a"
             ],
             [
              0.8888888888888888,
              "#fdca26"
             ],
             [
              1,
              "#f0f921"
             ]
            ],
            "type": "histogram2dcontour"
           }
          ],
          "mesh3d": [
           {
            "colorbar": {
             "outlinewidth": 0,
             "ticks": ""
            },
            "type": "mesh3d"
           }
          ],
          "parcoords": [
           {
            "line": {
             "colorbar": {
              "outlinewidth": 0,
              "ticks": ""
             }
            },
            "type": "parcoords"
           }
          ],
          "pie": [
           {
            "automargin": true,
            "type": "pie"
           }
          ],
          "scatter": [
           {
            "fillpattern": {
             "fillmode": "overlay",
             "size": 10,
             "solidity": 0.2
            },
            "type": "scatter"
           }
          ],
          "scatter3d": [
           {
            "line": {
             "colorbar": {
              "outlinewidth": 0,
              "ticks": ""
             }
            },
            "marker": {
             "colorbar": {
              "outlinewidth": 0,
              "ticks": ""
             }
            },
            "type": "scatter3d"
           }
          ],
          "scattercarpet": [
           {
            "marker": {
             "colorbar": {
              "outlinewidth": 0,
              "ticks": ""
             }
            },
            "type": "scattercarpet"
           }
          ],
          "scattergeo": [
           {
            "marker": {
             "colorbar": {
              "outlinewidth": 0,
              "ticks": ""
             }
            },
            "type": "scattergeo"
           }
          ],
          "scattergl": [
           {
            "marker": {
             "colorbar": {
              "outlinewidth": 0,
              "ticks": ""
             }
            },
            "type": "scattergl"
           }
          ],
          "scattermap": [
           {
            "marker": {
             "colorbar": {
              "outlinewidth": 0,
              "ticks": ""
             }
            },
            "type": "scattermap"
           }
          ],
          "scattermapbox": [
           {
            "marker": {
             "colorbar": {
              "outlinewidth": 0,
              "ticks": ""
             }
            },
            "type": "scattermapbox"
           }
          ],
          "scatterpolar": [
           {
            "marker": {
             "colorbar": {
              "outlinewidth": 0,
              "ticks": ""
             }
            },
            "type": "scatterpolar"
           }
          ],
          "scatterpolargl": [
           {
            "marker": {
             "colorbar": {
              "outlinewidth": 0,
              "ticks": ""
             }
            },
            "type": "scatterpolargl"
           }
          ],
          "scatterternary": [
           {
            "marker": {
             "colorbar": {
              "outlinewidth": 0,
              "ticks": ""
             }
            },
            "type": "scatterternary"
           }
          ],
          "surface": [
           {
            "colorbar": {
             "outlinewidth": 0,
             "ticks": ""
            },
            "colorscale": [
             [
              0,
              "#0d0887"
             ],
             [
              0.1111111111111111,
              "#46039f"
             ],
             [
              0.2222222222222222,
              "#7201a8"
             ],
             [
              0.3333333333333333,
              "#9c179e"
             ],
             [
              0.4444444444444444,
              "#bd3786"
             ],
             [
              0.5555555555555556,
              "#d8576b"
             ],
             [
              0.6666666666666666,
              "#ed7953"
             ],
             [
              0.7777777777777778,
              "#fb9f3a"
             ],
             [
              0.8888888888888888,
              "#fdca26"
             ],
             [
              1,
              "#f0f921"
             ]
            ],
            "type": "surface"
           }
          ],
          "table": [
           {
            "cells": {
             "fill": {
              "color": "#EBF0F8"
             },
             "line": {
              "color": "white"
             }
            },
            "header": {
             "fill": {
              "color": "#C8D4E3"
             },
             "line": {
              "color": "white"
             }
            },
            "type": "table"
           }
          ]
         },
         "layout": {
          "annotationdefaults": {
           "arrowcolor": "#2a3f5f",
           "arrowhead": 0,
           "arrowwidth": 1
          },
          "autotypenumbers": "strict",
          "coloraxis": {
           "colorbar": {
            "outlinewidth": 0,
            "ticks": ""
           }
          },
          "colorscale": {
           "diverging": [
            [
             0,
             "#8e0152"
            ],
            [
             0.1,
             "#c51b7d"
            ],
            [
             0.2,
             "#de77ae"
            ],
            [
             0.3,
             "#f1b6da"
            ],
            [
             0.4,
             "#fde0ef"
            ],
            [
             0.5,
             "#f7f7f7"
            ],
            [
             0.6,
             "#e6f5d0"
            ],
            [
             0.7,
             "#b8e186"
            ],
            [
             0.8,
             "#7fbc41"
            ],
            [
             0.9,
             "#4d9221"
            ],
            [
             1,
             "#276419"
            ]
           ],
           "sequential": [
            [
             0,
             "#0d0887"
            ],
            [
             0.1111111111111111,
             "#46039f"
            ],
            [
             0.2222222222222222,
             "#7201a8"
            ],
            [
             0.3333333333333333,
             "#9c179e"
            ],
            [
             0.4444444444444444,
             "#bd3786"
            ],
            [
             0.5555555555555556,
             "#d8576b"
            ],
            [
             0.6666666666666666,
             "#ed7953"
            ],
            [
             0.7777777777777778,
             "#fb9f3a"
            ],
            [
             0.8888888888888888,
             "#fdca26"
            ],
            [
             1,
             "#f0f921"
            ]
           ],
           "sequentialminus": [
            [
             0,
             "#0d0887"
            ],
            [
             0.1111111111111111,
             "#46039f"
            ],
            [
             0.2222222222222222,
             "#7201a8"
            ],
            [
             0.3333333333333333,
             "#9c179e"
            ],
            [
             0.4444444444444444,
             "#bd3786"
            ],
            [
             0.5555555555555556,
             "#d8576b"
            ],
            [
             0.6666666666666666,
             "#ed7953"
            ],
            [
             0.7777777777777778,
             "#fb9f3a"
            ],
            [
             0.8888888888888888,
             "#fdca26"
            ],
            [
             1,
             "#f0f921"
            ]
           ]
          },
          "colorway": [
           "#636efa",
           "#EF553B",
           "#00cc96",
           "#ab63fa",
           "#FFA15A",
           "#19d3f3",
           "#FF6692",
           "#B6E880",
           "#FF97FF",
           "#FECB52"
          ],
          "font": {
           "color": "#2a3f5f"
          },
          "geo": {
           "bgcolor": "white",
           "lakecolor": "white",
           "landcolor": "#E5ECF6",
           "showlakes": true,
           "showland": true,
           "subunitcolor": "white"
          },
          "hoverlabel": {
           "align": "left"
          },
          "hovermode": "closest",
          "mapbox": {
           "style": "light"
          },
          "paper_bgcolor": "white",
          "plot_bgcolor": "#E5ECF6",
          "polar": {
           "angularaxis": {
            "gridcolor": "white",
            "linecolor": "white",
            "ticks": ""
           },
           "bgcolor": "#E5ECF6",
           "radialaxis": {
            "gridcolor": "white",
            "linecolor": "white",
            "ticks": ""
           }
          },
          "scene": {
           "xaxis": {
            "backgroundcolor": "#E5ECF6",
            "gridcolor": "white",
            "gridwidth": 2,
            "linecolor": "white",
            "showbackground": true,
            "ticks": "",
            "zerolinecolor": "white"
           },
           "yaxis": {
            "backgroundcolor": "#E5ECF6",
            "gridcolor": "white",
            "gridwidth": 2,
            "linecolor": "white",
            "showbackground": true,
            "ticks": "",
            "zerolinecolor": "white"
           },
           "zaxis": {
            "backgroundcolor": "#E5ECF6",
            "gridcolor": "white",
            "gridwidth": 2,
            "linecolor": "white",
            "showbackground": true,
            "ticks": "",
            "zerolinecolor": "white"
           }
          },
          "shapedefaults": {
           "line": {
            "color": "#2a3f5f"
           }
          },
          "ternary": {
           "aaxis": {
            "gridcolor": "white",
            "linecolor": "white",
            "ticks": ""
           },
           "baxis": {
            "gridcolor": "white",
            "linecolor": "white",
            "ticks": ""
           },
           "bgcolor": "#E5ECF6",
           "caxis": {
            "gridcolor": "white",
            "linecolor": "white",
            "ticks": ""
           }
          },
          "title": {
           "x": 0.05
          },
          "xaxis": {
           "automargin": true,
           "gridcolor": "white",
           "linecolor": "white",
           "ticks": "",
           "title": {
            "standoff": 15
           },
           "zerolinecolor": "white",
           "zerolinewidth": 2
          },
          "yaxis": {
           "automargin": true,
           "gridcolor": "white",
           "linecolor": "white",
           "ticks": "",
           "title": {
            "standoff": 15
           },
           "zerolinecolor": "white",
           "zerolinewidth": 2
          }
         }
        },
        "title": {
         "text": "Netflix Titles by Country"
        },
        "width": 1000
       }
      },
      "image/png": "[encoded data removed]"
     },
     "metadata": {},
     "output_type": "display_data"
    }
   ],
   "source": [
    "import plotly.express as px\n",
    "\n",
    "fig = px.choropleth(\n",
    "    country_counts,\n",
    "    locations=\"Location\",\n",
    "    color=\"count\",\n",
    "    hover_name=\"country\",\n",
    "    color_continuous_scale=\"Viridis\",\n",
    "    title=\"Netflix Titles by Country\"\n",
    ")\n",
    "\n",
    "# Make the map bigger\n",
    "fig.update_layout(\n",
    "    width=1000,\n",
    "    height=600,\n",
    "    margin=dict(l=0, r=0, t=50, b=0)\n",
    ")\n",
    "\n",
    "fig.show()"
   ]
  },
  {
   "cell_type": "markdown",
   "id": "e2052802-03d5-459f-8ead-d39383a7f2c8",
   "metadata": {},
   "source": [
    "***Insights: The map allows you to hover over to identify content distribution by country. The USA domainates total content, and India comes in second.***"
   ]
  }
 ],
 "metadata": {
  "kernelspec": {
   "display_name": "Python 3 (ipykernel)",
   "language": "python",
   "name": "python3"
  },
  "language_info": {
   "codemirror_mode": {
    "name": "ipython",
    "version": 3
   },
   "file_extension": ".py",
   "mimetype": "text/x-python",
   "name": "python",
   "nbconvert_exporter": "python",
   "pygments_lexer": "ipython3",
   "version": "3.8.10"
  }
 },
 "nbformat": 4,
 "nbformat_minor": 5
}
